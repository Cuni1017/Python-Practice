{
 "cells": [
  {
   "cell_type": "markdown",
   "metadata": {},
   "source": [
    "# 1. 用解析式創建可迭代物件！ -> 一行搞定"
   ]
  },
  {
   "cell_type": "markdown",
   "metadata": {},
   "source": [
    "### a. 創建List: 2, 4, 6, 8, 10, ... 20"
   ]
  },
  {
   "cell_type": "code",
   "execution_count": 1,
   "metadata": {
    "scrolled": true
   },
   "outputs": [
    {
     "name": "stdout",
     "output_type": "stream",
     "text": [
      "[2, 4, 6, 8, 10, 12, 14, 16, 18, 20]\n"
     ]
    }
   ],
   "source": [
    "# 傳統做法\n",
    "my_list = []\n",
    "for x in range(1, 11):\n",
    "    my_list.append(x * 2)\n",
    "print(my_list)"
   ]
  },
  {
   "cell_type": "code",
   "execution_count": 12,
   "metadata": {},
   "outputs": [
    {
     "name": "stdout",
     "output_type": "stream",
     "text": [
      "[2, 4, 6, 8, 10, 12, 14, 16, 18, 20]\n",
      "<class 'list'>\n"
     ]
    }
   ],
   "source": [
    "my_list = [x * 2 for x in range(1, 11)]\n",
    "print(my_list)\n",
    "print(type(my_list))"
   ]
  },
  {
   "cell_type": "markdown",
   "metadata": {},
   "source": [
    "### b. 創建set"
   ]
  },
  {
   "cell_type": "code",
   "execution_count": 13,
   "metadata": {},
   "outputs": [
    {
     "name": "stdout",
     "output_type": "stream",
     "text": [
      "{2, 4, 6, 8, 10, 12, 14, 16, 18, 20}\n",
      "<class 'set'>\n"
     ]
    }
   ],
   "source": [
    "my_set = set(x * 2 for x in range(1, 11))\n",
    "print(my_set)\n",
    "print(type(my_set))"
   ]
  },
  {
   "cell_type": "markdown",
   "metadata": {},
   "source": [
    "### c. 創建tuple"
   ]
  },
  {
   "cell_type": "code",
   "execution_count": 14,
   "metadata": {},
   "outputs": [
    {
     "name": "stdout",
     "output_type": "stream",
     "text": [
      "(2, 4, 6, 8, 10, 12, 14, 16, 18, 20)\n",
      "<class 'tuple'>\n"
     ]
    }
   ],
   "source": [
    "my_tuple = tuple(x * 2 for x in range(1, 11))\n",
    "print(my_tuple)\n",
    "print(type(my_tuple))"
   ]
  },
  {
   "cell_type": "markdown",
   "metadata": {},
   "source": [
    "### d.創建dict"
   ]
  },
  {
   "cell_type": "code",
   "execution_count": 15,
   "metadata": {},
   "outputs": [
    {
     "name": "stdout",
     "output_type": "stream",
     "text": [
      "{1: 2, 2: 4, 3: 6, 4: 8, 5: 10, 6: 12, 7: 14, 8: 16, 9: 18, 10: 20}\n",
      "<class 'dict'>\n"
     ]
    }
   ],
   "source": [
    "# 創建dict -> dict( tuple1, tuple2 ) -> dict( (key1, val1), (key2, val2)   )\n",
    "# key: 1,2,3 ... 10, val:2,4,6,8,10...20\n",
    "\n",
    "my_dict = dict( (x, 2 * x) for x in range(1, 11) )\n",
    "print(my_dict)\n",
    "print(type(my_dict))"
   ]
  },
  {
   "cell_type": "markdown",
   "metadata": {},
   "source": [
    "### e. 創建生成器"
   ]
  },
  {
   "cell_type": "code",
   "execution_count": 16,
   "metadata": {},
   "outputs": [
    {
     "name": "stdout",
     "output_type": "stream",
     "text": [
      "<generator object <genexpr> at 0x7ff9e03ebf90>\n",
      "<class 'generator'>\n"
     ]
    }
   ],
   "source": [
    "# 創建生成器 --> 圓括號\n",
    "my_generator = (x * 2 for x in range(1, 11))\n",
    "print(my_generator)\n",
    "print(type(my_generator))"
   ]
  },
  {
   "cell_type": "code",
   "execution_count": 18,
   "metadata": {},
   "outputs": [
    {
     "name": "stdout",
     "output_type": "stream",
     "text": [
      "4\n"
     ]
    }
   ],
   "source": [
    "# 生成器取值 ： next\n",
    "print(next(my_generator))"
   ]
  },
  {
   "cell_type": "code",
   "execution_count": 19,
   "metadata": {},
   "outputs": [
    {
     "name": "stdout",
     "output_type": "stream",
     "text": [
      "2 4 6 8 10 12 14 16 18 20 "
     ]
    }
   ],
   "source": [
    "# 生成器取值：for loop\n",
    "for value in (x * 2 for x in range(1, 11)):\n",
    "    print(value, end=\" \")"
   ]
  },
  {
   "cell_type": "code",
   "execution_count": 20,
   "metadata": {},
   "outputs": [
    {
     "name": "stdout",
     "output_type": "stream",
     "text": [
      "2 4 6 8 10 "
     ]
    }
   ],
   "source": [
    "# 創建生成器 例2\n",
    "for value in (x * 2 for x in [1, 2, 3, 4, 5]):\n",
    "    print(value, end=\" \")"
   ]
  },
  {
   "cell_type": "markdown",
   "metadata": {},
   "source": [
    "# 2. 嵌套解析式： 解析式裡面再放解析式"
   ]
  },
  {
   "cell_type": "code",
   "execution_count": 22,
   "metadata": {},
   "outputs": [
    {
     "name": "stdout",
     "output_type": "stream",
     "text": [
      "[1, 2, 3, 4, 5, 6, 7, 8, 9, 2, 4, 6, 8, 10, 12, 14, 16, 18, 3, 6, 9, 12, 15, 18, 21, 24, 27, 4, 8, 12, 16, 20, 24, 28, 32, 36, 5, 10, 15, 20, 25, 30, 35, 40, 45, 6, 12, 18, 24, 30, 36, 42, 48, 54, 7, 14, 21, 28, 35, 42, 49, 56, 63, 8, 16, 24, 32, 40, 48, 56, 64, 72, 9, 18, 27, 36, 45, 54, 63, 72, 81]\n"
     ]
    }
   ],
   "source": [
    "# 99乘法表\n",
    "list99 = []\n",
    "for x in range(1, 10):\n",
    "    for y in range(1, 10):\n",
    "        list99.append(x * y)\n",
    "\n",
    "print(list99)\n"
   ]
  },
  {
   "cell_type": "code",
   "execution_count": 23,
   "metadata": {},
   "outputs": [
    {
     "name": "stdout",
     "output_type": "stream",
     "text": [
      "[1, 2, 3, 4, 5, 6, 7, 8, 9, 2, 4, 6, 8, 10, 12, 14, 16, 18, 3, 6, 9, 12, 15, 18, 21, 24, 27, 4, 8, 12, 16, 20, 24, 28, 32, 36, 5, 10, 15, 20, 25, 30, 35, 40, 45, 6, 12, 18, 24, 30, 36, 42, 48, 54, 7, 14, 21, 28, 35, 42, 49, 56, 63, 8, 16, 24, 32, 40, 48, 56, 64, 72, 9, 18, 27, 36, 45, 54, 63, 72, 81]\n",
      "<class 'list'>\n"
     ]
    }
   ],
   "source": [
    "# 嵌套解析式產生列表\n",
    "list99 = [x * y for x in range(1, 10) for y in range(1, 10)]\n",
    "print(list99)\n",
    "print(type(list99))"
   ]
  },
  {
   "cell_type": "code",
   "execution_count": 24,
   "metadata": {},
   "outputs": [
    {
     "name": "stdout",
     "output_type": "stream",
     "text": [
      "<generator object <genexpr> at 0x7ff9e03e80b0>\n",
      "<class 'generator'>\n"
     ]
    }
   ],
   "source": [
    "# 嵌套解析式產生生成器\n",
    "gen99 = (x * y for x in range(1, 10) for y in range(1, 10))\n",
    "print(gen99)\n",
    "print(type(gen99))"
   ]
  },
  {
   "cell_type": "code",
   "execution_count": 25,
   "metadata": {},
   "outputs": [
    {
     "name": "stdout",
     "output_type": "stream",
     "text": [
      "1 2 3 4 5 6 7 8 9 2 4 6 8 10 12 14 16 18 3 6 9 12 15 18 21 24 27 4 8 12 16 20 24 28 32 36 5 10 15 20 25 30 35 40 45 6 12 18 24 30 36 42 48 54 7 14 21 28 35 42 49 56 63 8 16 24 32 40 48 56 64 72 9 18 27 36 45 54 63 72 81 "
     ]
    }
   ],
   "source": [
    "for g in gen99:\n",
    "    print(g, end=\" \")"
   ]
  },
  {
   "cell_type": "code",
   "execution_count": 26,
   "metadata": {},
   "outputs": [
    {
     "name": "stdout",
     "output_type": "stream",
     "text": [
      "(1, 1, 1) (1, 2, 2) (1, 3, 3) (1, 4, 4) (1, 5, 5) (1, 6, 6) (1, 7, 7) (1, 8, 8) (1, 9, 9) (2, 1, 2) (2, 2, 4) (2, 3, 6) (2, 4, 8) (2, 5, 10) (2, 6, 12) (2, 7, 14) (2, 8, 16) (2, 9, 18) (3, 1, 3) (3, 2, 6) (3, 3, 9) (3, 4, 12) (3, 5, 15) (3, 6, 18) (3, 7, 21) (3, 8, 24) (3, 9, 27) (4, 1, 4) (4, 2, 8) (4, 3, 12) (4, 4, 16) (4, 5, 20) (4, 6, 24) (4, 7, 28) (4, 8, 32) (4, 9, 36) (5, 1, 5) (5, 2, 10) (5, 3, 15) (5, 4, 20) (5, 5, 25) (5, 6, 30) (5, 7, 35) (5, 8, 40) (5, 9, 45) (6, 1, 6) (6, 2, 12) (6, 3, 18) (6, 4, 24) (6, 5, 30) (6, 6, 36) (6, 7, 42) (6, 8, 48) (6, 9, 54) (7, 1, 7) (7, 2, 14) (7, 3, 21) (7, 4, 28) (7, 5, 35) (7, 6, 42) (7, 7, 49) (7, 8, 56) (7, 9, 63) (8, 1, 8) (8, 2, 16) (8, 3, 24) (8, 4, 32) (8, 5, 40) (8, 6, 48) (8, 7, 56) (8, 8, 64) (8, 9, 72) (9, 1, 9) (9, 2, 18) (9, 3, 27) (9, 4, 36) (9, 5, 45) (9, 6, 54) (9, 7, 63) (9, 8, 72) (9, 9, 81) "
     ]
    }
   ],
   "source": [
    "# 嵌套解析式產生生成器 x 和 y\n",
    "for g in ( (x, y, x * y) for x in range(1, 10) for y in range(1, 10)):\n",
    "    print(g, end=\" \")"
   ]
  },
  {
   "cell_type": "code",
   "execution_count": null,
   "metadata": {},
   "outputs": [],
   "source": []
  }
 ],
 "metadata": {
  "kernelspec": {
   "display_name": "Python 3",
   "language": "python",
   "name": "python3"
  },
  "language_info": {
   "codemirror_mode": {
    "name": "ipython",
    "version": 3
   },
   "file_extension": ".py",
   "mimetype": "text/x-python",
   "name": "python",
   "nbconvert_exporter": "python",
   "pygments_lexer": "ipython3",
   "version": "3.8.2"
  }
 },
 "nbformat": 4,
 "nbformat_minor": 4
}
