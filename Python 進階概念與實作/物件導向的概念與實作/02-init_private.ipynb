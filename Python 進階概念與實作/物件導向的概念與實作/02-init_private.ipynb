{
 "cells": [
  {
   "cell_type": "code",
   "execution_count": 1,
   "metadata": {},
   "outputs": [],
   "source": [
    "class Person:\n",
    "    nationality = \"Taiwan\"\n",
    "    def __init__(self, name, age): # 初始化函數，構造函數 (constructor)\n",
    "        self.name = name\n",
    "        self.age = age\n",
    "        \n",
    "    def speak(self, sentence): # 規定第一個參數是self， 用來在function中存取這個物件的值或者函數\n",
    "        print(self.name + \" says\" + sentence)\n",
    "        \n",
    "    def introduce(self):\n",
    "        print(\"my name is \" + self.name)\n",
    "        print(\"my age is \" + str(self.age))\n",
    "        print(\"my nationality is \" + self.nationality)\n",
    "        "
   ]
  },
  {
   "cell_type": "code",
   "execution_count": 2,
   "metadata": {},
   "outputs": [],
   "source": [
    "alice = Person(\"Alice\", 20)"
   ]
  },
  {
   "cell_type": "code",
   "execution_count": 3,
   "metadata": {},
   "outputs": [
    {
     "name": "stdout",
     "output_type": "stream",
     "text": [
      "my name is Alice\n",
      "my age is 20\n",
      "my nationality is Taiwan\n"
     ]
    }
   ],
   "source": [
    "alice.introduce()"
   ]
  },
  {
   "cell_type": "code",
   "execution_count": 4,
   "metadata": {},
   "outputs": [
    {
     "name": "stdout",
     "output_type": "stream",
     "text": [
      "my name is Bob\n",
      "my age is 40\n",
      "my nationality is Taiwan\n"
     ]
    }
   ],
   "source": [
    "# 匿名物件\n",
    "Person(\"Bob\", 40).introduce()"
   ]
  },
  {
   "cell_type": "code",
   "execution_count": 7,
   "metadata": {},
   "outputs": [],
   "source": [
    "# 女生不能讓別人直接獲取她的年齡 -> age 是私有化的 attribute\n",
    "class Girl:\n",
    "    nationality = \"Taiwan\"\n",
    "    def __init__(self, name, age): # 初始化函數，構造函數 (constructor)\n",
    "        self.name = name\n",
    "        self.__age = age # private attribute\n",
    "        \n",
    "    def speak(self, sentence): # 規定第一個參數是self， 用來在function中存取這個物件的值或者函數\n",
    "        print(self.name + \" says\" + sentence)\n",
    "        \n",
    "    def introduce(self):\n",
    "        print(\"my name is \" + self.name)\n",
    "        print(\"my age is \" + str(self.__age))\n",
    "        print(\"my nationality is \" + self.nationality)"
   ]
  },
  {
   "cell_type": "code",
   "execution_count": 8,
   "metadata": {},
   "outputs": [],
   "source": [
    "mary = Girl(\"Mary\", 18)"
   ]
  },
  {
   "cell_type": "code",
   "execution_count": 9,
   "metadata": {},
   "outputs": [
    {
     "ename": "AttributeError",
     "evalue": "'Girl' object has no attribute '__age'",
     "output_type": "error",
     "traceback": [
      "\u001b[0;31m---------------------------------------------------------------------------\u001b[0m",
      "\u001b[0;31mAttributeError\u001b[0m                            Traceback (most recent call last)",
      "\u001b[0;32m<ipython-input-9-ae34378fd778>\u001b[0m in \u001b[0;36m<module>\u001b[0;34m\u001b[0m\n\u001b[0;32m----> 1\u001b[0;31m \u001b[0mprint\u001b[0m\u001b[0;34m(\u001b[0m\u001b[0mmary\u001b[0m\u001b[0;34m.\u001b[0m\u001b[0m__age\u001b[0m\u001b[0;34m)\u001b[0m \u001b[0;31m# Error\u001b[0m\u001b[0;34m\u001b[0m\u001b[0;34m\u001b[0m\u001b[0m\n\u001b[0m",
      "\u001b[0;31mAttributeError\u001b[0m: 'Girl' object has no attribute '__age'"
     ]
    }
   ],
   "source": [
    "print(mary.__age) # Error"
   ]
  },
  {
   "cell_type": "code",
   "execution_count": 10,
   "metadata": {},
   "outputs": [
    {
     "name": "stdout",
     "output_type": "stream",
     "text": [
      "my name is Mary\n",
      "my age is 18\n",
      "my nationality is Taiwan\n"
     ]
    }
   ],
   "source": [
    "mary.introduce()"
   ]
  },
  {
   "cell_type": "code",
   "execution_count": null,
   "metadata": {},
   "outputs": [],
   "source": []
  }
 ],
 "metadata": {
  "kernelspec": {
   "display_name": "Python 3 (ipykernel)",
   "language": "python",
   "name": "python3"
  },
  "language_info": {
   "codemirror_mode": {
    "name": "ipython",
    "version": 3
   },
   "file_extension": ".py",
   "mimetype": "text/x-python",
   "name": "python",
   "nbconvert_exporter": "python",
   "pygments_lexer": "ipython3",
   "version": "3.12.4"
  }
 },
 "nbformat": 4,
 "nbformat_minor": 4
}
