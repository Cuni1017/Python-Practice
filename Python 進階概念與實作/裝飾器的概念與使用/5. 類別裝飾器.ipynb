{
 "cells": [
  {
   "cell_type": "markdown",
   "metadata": {},
   "source": [
    "# 1. 一個加法器例子"
   ]
  },
  {
   "cell_type": "code",
   "execution_count": 2,
   "metadata": {},
   "outputs": [
    {
     "name": "stdout",
     "output_type": "stream",
     "text": [
      "15\n",
      "20\n"
     ]
    }
   ],
   "source": [
    "class Adder:\n",
    "    def __init__(self, base):\n",
    "        self.base = base\n",
    "\n",
    "    def add(self, x):\n",
    "        return self.base + x\n",
    "\n",
    "adder = Adder(10)\n",
    "print(adder.add(5))\n",
    "print(adder.add(10))"
   ]
  },
  {
   "cell_type": "code",
   "execution_count": 11,
   "metadata": {},
   "outputs": [],
   "source": [
    "# 需求： 呼叫add之前print self.base 和 x"
   ]
  },
  {
   "cell_type": "code",
   "execution_count": 14,
   "metadata": {},
   "outputs": [],
   "source": [
    "# 裝飾器的本質： 吃入一個原來的function，回傳一個裝飾過的新function 的function\n",
    "# 類別裝飾器： 吃入一個原來的class，回傳一個裝飾過的新class 的function"
   ]
  },
  {
   "cell_type": "markdown",
   "metadata": {},
   "source": [
    "# 2. 裝飾器裝飾類別"
   ]
  },
  {
   "cell_type": "code",
   "execution_count": 4,
   "metadata": {},
   "outputs": [],
   "source": [
    "def AdderPrinter(clz): # clz是還沒有實例化的類別物件\n",
    "    class Adder2:\n",
    "        def __init__(self, base):\n",
    "            self.adder = clz(base)\n",
    "\n",
    "        def add(self, x):\n",
    "            print(\"base:\", self.adder.base, \"x:\", x)\n",
    "            return self.adder.add(x)\n",
    "    return Adder2\n",
    "    \n",
    "@AdderPrinter\n",
    "class Adder:\n",
    "    def __init__(self, base):\n",
    "        self.base = base\n",
    "\n",
    "    def add(self, x):\n",
    "        return self.base + x"
   ]
  },
  {
   "cell_type": "code",
   "execution_count": 5,
   "metadata": {},
   "outputs": [
    {
     "name": "stdout",
     "output_type": "stream",
     "text": [
      "base: 10 x: 5\n",
      "15\n"
     ]
    }
   ],
   "source": [
    "adder = Adder(10)\n",
    "print(adder.add(5))"
   ]
  },
  {
   "cell_type": "code",
   "execution_count": 6,
   "metadata": {},
   "outputs": [
    {
     "name": "stdout",
     "output_type": "stream",
     "text": [
      "base: 10 x: 10\n"
     ]
    },
    {
     "data": {
      "text/plain": [
       "20"
      ]
     },
     "execution_count": 6,
     "metadata": {},
     "output_type": "execute_result"
    }
   ],
   "source": [
    "adder.add(10)"
   ]
  },
  {
   "cell_type": "markdown",
   "metadata": {},
   "source": [
    "# 3. 裝飾器裝飾類別 範例2\n"
   ]
  },
  {
   "cell_type": "code",
   "execution_count": 7,
   "metadata": {},
   "outputs": [],
   "source": [
    "# 漢堡和套餐\n",
    "\n",
    "def dish(clz):\n",
    "    class Dish:\n",
    "        def __init__(self):\n",
    "            self.mainDish = clz()\n",
    "            \n",
    "        def getContent(self):\n",
    "            return self.mainDish.getContent() + \"Coke\"\n",
    "        \n",
    "        def price(self):\n",
    "            return self.mainDish.price() + 20\n",
    "    return Dish\n",
    "\n",
    "@dish\n",
    "class Hamburger:\n",
    "    def getContent(self):\n",
    "        return \"Hamburger\"\n",
    "    def price(self):\n",
    "        return 50\n",
    "\n",
    "@dish    \n",
    "class Pizza:\n",
    "    def getContent(self):\n",
    "        return \"Pizza\"\n",
    "    def price(self):\n",
    "        return 200"
   ]
  },
  {
   "cell_type": "code",
   "execution_count": 8,
   "metadata": {},
   "outputs": [
    {
     "name": "stdout",
     "output_type": "stream",
     "text": [
      "HamburgerCoke\n",
      "70\n"
     ]
    }
   ],
   "source": [
    "h = Hamburger()\n",
    "print(h.getContent())\n",
    "print(h.price())"
   ]
  },
  {
   "cell_type": "code",
   "execution_count": 9,
   "metadata": {},
   "outputs": [
    {
     "name": "stdout",
     "output_type": "stream",
     "text": [
      "PizzaCoke\n",
      "220\n"
     ]
    }
   ],
   "source": [
    "p = Pizza()\n",
    "print(p.getContent())\n",
    "print(p.price())"
   ]
  },
  {
   "cell_type": "markdown",
   "metadata": {},
   "source": [
    "# 3. 裝飾器裝飾類別 範例2.2"
   ]
  },
  {
   "cell_type": "code",
   "execution_count": 13,
   "metadata": {},
   "outputs": [],
   "source": [
    "#漢堡和副餐, 副餐可以自由定義 -> 帶參數的裝飾器\n",
    "\n",
    "def sideDish(sideDishName, price): \n",
    "    def dishDecorator(clz):\n",
    "        class Dish:\n",
    "            def __init__(self):\n",
    "                self.mainDish = clz()\n",
    "            \n",
    "            def getContent(self):\n",
    "                return self.mainDish.getContent() + sideDishName\n",
    "        \n",
    "            def price(self):\n",
    "                return self.mainDish.price() + price\n",
    "        return Dish\n",
    "    return dishDecorator\n",
    "    \n",
    "\n",
    "@sideDish(\"Coke\", 20)\n",
    "@sideDish(\"FrenchFries\", 30)\n",
    "class Hamburger:\n",
    "    def getContent(self):\n",
    "        return \"Hamburger\"\n",
    "    def price(self):\n",
    "        return 50\n"
   ]
  },
  {
   "cell_type": "code",
   "execution_count": 14,
   "metadata": {},
   "outputs": [
    {
     "name": "stdout",
     "output_type": "stream",
     "text": [
      "HamburgerFrenchFriesCoke\n",
      "100\n"
     ]
    }
   ],
   "source": [
    "h = Hamburger()\n",
    "print(h.getContent())\n",
    "print(h.price())"
   ]
  },
  {
   "cell_type": "code",
   "execution_count": null,
   "metadata": {},
   "outputs": [],
   "source": []
  },
  {
   "cell_type": "code",
   "execution_count": null,
   "metadata": {},
   "outputs": [],
   "source": []
  },
  {
   "cell_type": "code",
   "execution_count": null,
   "metadata": {},
   "outputs": [],
   "source": []
  }
 ],
 "metadata": {
  "kernelspec": {
   "display_name": "Python 3",
   "language": "python",
   "name": "python3"
  },
  "language_info": {
   "codemirror_mode": {
    "name": "ipython",
    "version": 3
   },
   "file_extension": ".py",
   "mimetype": "text/x-python",
   "name": "python",
   "nbconvert_exporter": "python",
   "pygments_lexer": "ipython3",
   "version": "3.8.2"
  }
 },
 "nbformat": 4,
 "nbformat_minor": 4
}
