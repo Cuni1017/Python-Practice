{
 "cells": [
  {
   "cell_type": "code",
   "execution_count": null,
   "id": "577c0308-9b56-4790-955b-dae3bfd0dc01",
   "metadata": {},
   "outputs": [],
   "source": [
    "# Python 中\n",
    "# 所以東西都是 Object 派生\n",
    "# 函式擁有一個「關鍵字參數」的特性，不像是JS的位置參數，它能直接指定關鍵 key 來傳遞參數（reversve=True, key=...）\n",
    "# 函式的「其餘參數」，是用 *（非kwArgs）及 **（kwArgs）接，e.g. def func(*args, **kwArgs) 會分別回傳 [], {} 包裹其餘的 args\n",
    "# 匿名函式以 lambda 寫，e.g. filter(lambda x: x > 500, map(lambda x: x * 2, map(float, prices)))\n",
    "# List, Dict comprehension 順序為：表達式 -> 迭代 -> 過濾(optional)"
   ]
  },
  {
   "cell_type": "code",
   "execution_count": 20,
   "id": "e87ae41e-3bc6-40dd-b0b1-e14f668274cf",
   "metadata": {},
   "outputs": [
    {
     "name": "stdout",
     "output_type": "stream",
     "text": [
      "His name is mikeLiu, and he is 23 years old\n"
     ]
    }
   ],
   "source": [
    "#常見用法\n",
    "# list[2:5:1] # 切片 index 2 開始，到 index 5 之前，每次跳 1\n",
    "# 'qq' in member # 返回 Bool\n",
    "# with open('./foo.txt', mode='w+') as f: # 打開 foo.txt 離開時會自動 f.close()\n",
    "#     ...\n",
    "# print(something, end=\" \") 不換行\n",
    "\n",
    "name = 'mikeLiu'\n",
    "age = 23\n",
    "print(f'His name is {name}, and he is {age} years old') #模板字串"
   ]
  },
  {
   "cell_type": "code",
   "execution_count": 12,
   "id": "9cbb2c8c-2a4b-4436-abcd-6c4d739df1a3",
   "metadata": {},
   "outputs": [],
   "source": [
    "# #tuple\n",
    "#     可以 tuple() 或 () 建立，以 () 顯示，不可修改，有順序\n",
    "# #list\n",
    "#     可以 list() 或 [] 建立，以 [] 顯示，可修改，有順序\n",
    "# #dict\n",
    "#     可以 dict{} 或 {} 建立，以 {} 顯示，可修改，無順序，但 key 值重複則後面的會蓋前面的\n",
    "# #set\n",
    "#     以 set() 建立，也以 {} 顯示，可修改，但沒有 key，且會過濾重複值"
   ]
  },
  {
   "cell_type": "code",
   "execution_count": 8,
   "id": "c7285d21-0b82-4f10-90b1-ed3e156a1b3c",
   "metadata": {},
   "outputs": [],
   "source": [
    "# max(), min() #找最大、小值（Dict 比 key，字串由第一個字開始往後比）\n",
    "\n",
    "# List\n",
    "#     .count(something) # 返回 something 存在 List 中有幾個\n",
    "#     .inDex(something) # 找 something，沒找到會噴 Error\n",
    "#     .append(something) # 最尾端加入 something\n",
    "#     .insert(index, something) # 在 index 加入 something\n",
    "#     .remove(something) # 刪除 something 一次\n",
    "#     .reversve()\n",
    "\n",
    "# Set\n",
    "#     .intersection(Set) # 交集\n",
    "#     .difference(Set) # 差集\n",
    "#     .union(Set) # 聯集\n",
    "#     .add()\n",
    "#     .update(Set, List, Tuple, Dict)\n",
    "#     .clear() # 清空\n",
    "#     .remove() # 刪除\n",
    "#     .discard() # 一樣移除，沒找到不會噴錯"
   ]
  },
  {
   "cell_type": "code",
   "execution_count": null,
   "id": "3b039456-ee0d-41b3-805f-c67d94105ab4",
   "metadata": {},
   "outputs": [],
   "source": [
    "import json\n",
    "import pickle\n",
    "\n",
    "# mode\n",
    "# r - read\n",
    "# w - write\n",
    "# x - exexute\n",
    "# a - append\n",
    "# b - binarary\n",
    "# t - text\n",
    "# + - update\n",
    "\n",
    "# r - 唯讀\n",
    "# w - 唯寫\n",
    "# r+, w+ - 可讀可寫\n",
    "# rb, wb - 處理二進制\n",
    "\n",
    "\n",
    "#_io.TextIOWrapper\n",
    "\n",
    "#檔案讀寫前都要進行序列化、反序列化\n",
    "# serialization\n",
    "json.dumps() # 轉 json\n",
    "pickle.dumps() #轉 binary，open file 時記得都要加 mode = b\n",
    "# deserialization\n",
    "json.load()\n",
    "pickle.load()"
   ]
  },
  {
   "cell_type": "markdown",
   "id": "59367fa7-9e35-47d3-a18e-5d8c7e096701",
   "metadata": {},
   "source": [
    "## 檔案類型\n",
    "\n",
    "### 文字格式\n",
    "* txt\n",
    "* csv\n",
    "* html\n",
    "\n",
    "### 二進制格式\n",
    "* 圖片格式：jpg、png\n",
    "* 音頻格式：mp3\n",
    "* 影片格式：mov、mp4\n",
    "* 壓縮格式：zip、rar\n",
    "* 文件格式：ppt、doc、xls"
   ]
  },
  {
   "cell_type": "code",
   "execution_count": 9,
   "id": "32cabaca-9e4c-4da2-bcef-606884b1b9e2",
   "metadata": {},
   "outputs": [],
   "source": [
    "# 其餘參數 * 代表非 keyword 的參數，以 List 回傳、** 代表 keyword 的參數，以 Dict 回傳\n",
    "\n",
    "def add(*args, **kwargs):\n",
    "    total = sum(args)\n",
    "    return total"
   ]
  },
  {
   "cell_type": "code",
   "execution_count": 10,
   "id": "a7454dd8-004c-4803-ad49-6659bb87b680",
   "metadata": {},
   "outputs": [
    {
     "name": "stdout",
     "output_type": "stream",
     "text": [
      "[4, 2, 2, 6, 4]\n"
     ]
    }
   ],
   "source": [
    "# comprehension\n",
    "\n",
    "numbers = [3, 2, 1, 5, 3]\n",
    "\n",
    "# filter\n",
    "# print([\n",
    "#     number\n",
    "#     for number in numbers\n",
    "#     if number > 2\n",
    "# ])\n",
    "\n",
    "# map\n",
    "print([\n",
    "    number\n",
    "    if number % 2 == 0\n",
    "    else number + 1\n",
    "    for number in numbers\n",
    "])"
   ]
  },
  {
   "cell_type": "code",
   "execution_count": 11,
   "id": "71ec8461-c32e-4699-b604-d1e83e4103c3",
   "metadata": {},
   "outputs": [
    {
     "name": "stdout",
     "output_type": "stream",
     "text": [
      "['__breakpointhook__', '__displayhook__', '__doc__', '__excepthook__', '__interactivehook__', '__loader__', '__name__', '__package__', '__spec__', '__stderr__', '__stdin__', '__stdout__', '__unraisablehook__', '_base_executable', '_clear_type_cache', '_current_exceptions', '_current_frames', '_debugmallocstats', '_framework', '_getframe', '_getframemodulename', '_git', '_home', '_setprofileallthreads', '_settraceallthreads', '_stdlib_dir', '_xoptions', 'abiflags', 'activate_stack_trampoline', 'addaudithook', 'api_version', 'argv', 'audit', 'base_exec_prefix', 'base_prefix', 'breakpointhook', 'builtin_module_names', 'byteorder', 'call_tracing', 'copyright', 'deactivate_stack_trampoline', 'displayhook', 'dont_write_bytecode', 'exc_info', 'excepthook', 'exception', 'exec_prefix', 'executable', 'exit', 'flags', 'float_info', 'float_repr_style', 'get_asyncgen_hooks', 'get_coroutine_origin_tracking_depth', 'get_int_max_str_digits', 'getallocatedblocks', 'getdefaultencoding', 'getdlopenflags', 'getfilesystemencodeerrors', 'getfilesystemencoding', 'getprofile', 'getrecursionlimit', 'getrefcount', 'getsizeof', 'getswitchinterval', 'gettrace', 'getunicodeinternedsize', 'hash_info', 'hexversion', 'implementation', 'int_info', 'intern', 'is_finalizing', 'is_stack_trampoline_active', 'last_traceback', 'last_type', 'last_value', 'maxsize', 'maxunicode', 'meta_path', 'modules', 'monitoring', 'orig_argv', 'path', 'path_hooks', 'path_importer_cache', 'platform', 'platlibdir', 'prefix', 'ps1', 'ps2', 'ps3', 'pycache_prefix', 'set_asyncgen_hooks', 'set_coroutine_origin_tracking_depth', 'set_int_max_str_digits', 'setdlopenflags', 'setprofile', 'setrecursionlimit', 'setswitchinterval', 'settrace', 'stderr', 'stdin', 'stdlib_module_names', 'stdout', 'thread_info', 'unraisablehook', 'version', 'version_info', 'warnoptions']\n"
     ]
    }
   ],
   "source": [
    "# 當前版本\n",
    "import sys\n",
    "\n",
    "# print(sys.version)\n",
    "print(dir(sys))"
   ]
  },
  {
   "cell_type": "code",
   "execution_count": null,
   "id": "2921172a-03d3-4d4a-aa1f-d8ad991a0466",
   "metadata": {},
   "outputs": [],
   "source": [
    "# Class 宣告內的函式（包括__init__） 第一個參數一定是回傳 self，建立實例時也使可以用 keyword arguments 的方式\n",
    "# __something（前面用兩底線） -> private attribute\n",
    "# id(x), 回傳物件x的id\n",
    "# isinstance(obj, class), 判斷物件 obj 是不是 class 的類別或子類別的物件\n",
    "# issubclass(class1, class2), 判斷 class1 是不是 class2 的類別或者子類別\n",
    "\n",
    "# PIE: 物件導向的 三大特性 三大重點\n",
    "# Polymorphism 多型（多態）\n",
    "# 呼叫的行為由被呼叫的物件來決定\n",
    "# Inheritence 繼承\n",
    "# 讓子類別得到父類別的 Attribu 跟 Function, Person: 父類別 Student: 子類別\n",
    "# Encapsulation 封裝\n",
    "# 把資料和要處理啊的資料的 Function 整理起來，放到一個 Class 的過程， 叫做封裝\n",
    "\n",
    "# 依賴注入可以看 Python 進階概念與實作/物件導向的概念與實作/05-di.ipynb\n",
    "# Mark 出生母語中文的學生 .... 英文的學生\n",
    "# class ChineseStudent(ChineseSpeaker)\n",
    "# class ChineseComputerStudent(ChineseStudent)\n",
    "# 濫用繼承 -> ”組合爆炸“\n",
    "# 解決： 依賴注入 ---> 讓一個物件成為另一個物件的一部分，成為另一個物件的屬性\n",
    "#    speaker 成為 Person 的屬性\n",
    "#    將 speaker 注入到 Person 裡面: Person 依賴 speaker\n"
   ]
  }
 ],
 "metadata": {
  "kernelspec": {
   "display_name": "base",
   "language": "python",
   "name": "python3"
  },
  "language_info": {
   "codemirror_mode": {
    "name": "ipython",
    "version": 3
   },
   "file_extension": ".py",
   "mimetype": "text/x-python",
   "name": "python",
   "nbconvert_exporter": "python",
   "pygments_lexer": "ipython3",
   "version": "3.12.4"
  }
 },
 "nbformat": 4,
 "nbformat_minor": 5
}
