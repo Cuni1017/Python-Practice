{
 "cells": [
  {
   "cell_type": "markdown",
   "metadata": {},
   "source": [
    "# 1. 上一堂課的函數裝飾器"
   ]
  },
  {
   "cell_type": "code",
   "execution_count": 2,
   "metadata": {},
   "outputs": [],
   "source": [
    "def plusplus(a, b, c):\n",
    "    return a + b + c\n",
    "\n",
    "def decorateOp(fn):\n",
    "    # *： 將可變的位置參數(positional arguments)對應到 tuple\n",
    "    # **: 將可變的字典參數(key-val arguments)對應到 dict\n",
    "    def newFn(*args, **kwargs):\n",
    "        print(type(args), args)\n",
    "        print(type(kwargs), kwargs)\n",
    "        print(fn.__name__, \"is running\")\n",
    "        return fn(*args, **kwargs)\n",
    "    return newFn"
   ]
  },
  {
   "cell_type": "code",
   "execution_count": 3,
   "metadata": {},
   "outputs": [],
   "source": [
    "p2 = decorateOp(plusplus) # 程式運行中的”裝飾“"
   ]
  },
  {
   "cell_type": "code",
   "execution_count": 5,
   "metadata": {},
   "outputs": [
    {
     "name": "stdout",
     "output_type": "stream",
     "text": [
      "<class 'tuple'> (1, 2, 3)\n",
      "<class 'dict'> {}\n",
      "plusplus is running\n"
     ]
    },
    {
     "data": {
      "text/plain": [
       "6"
      ]
     },
     "execution_count": 5,
     "metadata": {},
     "output_type": "execute_result"
    }
   ],
   "source": [
    "p2(1, 2, 3)"
   ]
  },
  {
   "cell_type": "markdown",
   "metadata": {},
   "source": [
    "# 2. 語法糖：宣告plusplus的時候請python幫助裝飾好！"
   ]
  },
  {
   "cell_type": "code",
   "execution_count": 6,
   "metadata": {},
   "outputs": [
    {
     "name": "stdout",
     "output_type": "stream",
     "text": [
      "<class 'tuple'> (4, 5, 6)\n",
      "<class 'dict'> {}\n",
      "plusplus is running\n"
     ]
    },
    {
     "data": {
      "text/plain": [
       "15"
      ]
     },
     "execution_count": 6,
     "metadata": {},
     "output_type": "execute_result"
    }
   ],
   "source": [
    "@decorateOp\n",
    "def plusplus(a, b, c):\n",
    "    return a + b + c\n",
    "\n",
    "plusplus(4,5,6)"
   ]
  },
  {
   "cell_type": "code",
   "execution_count": 7,
   "metadata": {},
   "outputs": [
    {
     "name": "stdout",
     "output_type": "stream",
     "text": [
      "<class 'tuple'> (10, 20)\n",
      "<class 'dict'> {}\n",
      "plus is running\n"
     ]
    },
    {
     "data": {
      "text/plain": [
       "30"
      ]
     },
     "execution_count": 7,
     "metadata": {},
     "output_type": "execute_result"
    }
   ],
   "source": [
    "@decorateOp\n",
    "def plus(a, b):\n",
    "    return a + b\n",
    "# plus = decorateOp(plus)\n",
    "\n",
    "plus(10, 20)"
   ]
  },
  {
   "cell_type": "code",
   "execution_count": null,
   "metadata": {},
   "outputs": [],
   "source": [
    "# 1. @: python 裝飾器的符號，其他語言可能是別的裝飾器--> @python的語法糖\n",
    "# 2. @後面的那個東西（function）, 吃入被裝飾的inner function, 回傳一個打包好的新function, 用起來就好像是原來的舊function\n",
    "# 3. 視情況來決定 要不要用 args, kwargs"
   ]
  },
  {
   "cell_type": "markdown",
   "metadata": {},
   "source": [
    "# 3.固定參數的裝飾器：不太好用"
   ]
  },
  {
   "cell_type": "code",
   "execution_count": 8,
   "metadata": {},
   "outputs": [],
   "source": [
    "def fixedDecorateOp(fn):\n",
    "    def newFn(a, b, c):\n",
    "        print(a, b, c)\n",
    "        print(fn.__name__, \"is running\")\n",
    "        return fn(a, b, c)\n",
    "    return newFn"
   ]
  },
  {
   "cell_type": "code",
   "execution_count": 9,
   "metadata": {},
   "outputs": [
    {
     "name": "stdout",
     "output_type": "stream",
     "text": [
      "4 5 6\n",
      "plusplus is running\n"
     ]
    },
    {
     "data": {
      "text/plain": [
       "15"
      ]
     },
     "execution_count": 9,
     "metadata": {},
     "output_type": "execute_result"
    }
   ],
   "source": [
    "@fixedDecorateOp\n",
    "def plusplus(a, b, c):\n",
    "    return a + b + c\n",
    "\n",
    "plusplus(4,5,6)"
   ]
  },
  {
   "cell_type": "code",
   "execution_count": 10,
   "metadata": {},
   "outputs": [
    {
     "ename": "TypeError",
     "evalue": "newFn() missing 1 required positional argument: 'c'",
     "output_type": "error",
     "traceback": [
      "\u001b[0;31m---------------------------------------------------------------------------\u001b[0m",
      "\u001b[0;31mTypeError\u001b[0m                                 Traceback (most recent call last)",
      "\u001b[0;32m<ipython-input-10-a9a4400b4d32>\u001b[0m in \u001b[0;36m<module>\u001b[0;34m\u001b[0m\n\u001b[1;32m      3\u001b[0m     \u001b[0;32mreturn\u001b[0m \u001b[0ma\u001b[0m \u001b[0;34m+\u001b[0m \u001b[0mb\u001b[0m\u001b[0;34m\u001b[0m\u001b[0;34m\u001b[0m\u001b[0m\n\u001b[1;32m      4\u001b[0m \u001b[0;34m\u001b[0m\u001b[0m\n\u001b[0;32m----> 5\u001b[0;31m \u001b[0mplus\u001b[0m\u001b[0;34m(\u001b[0m\u001b[0;36m10\u001b[0m\u001b[0;34m,\u001b[0m \u001b[0;36m20\u001b[0m\u001b[0;34m)\u001b[0m\u001b[0;34m\u001b[0m\u001b[0;34m\u001b[0m\u001b[0m\n\u001b[0m",
      "\u001b[0;31mTypeError\u001b[0m: newFn() missing 1 required positional argument: 'c'"
     ]
    }
   ],
   "source": [
    "@fixedDecorateOp\n",
    "def plus(a, b):\n",
    "    return a + b\n",
    "\n",
    "plus(10, 20)"
   ]
  },
  {
   "cell_type": "markdown",
   "metadata": {},
   "source": [
    "# 4. 裝飾器疊疊樂"
   ]
  },
  {
   "cell_type": "code",
   "execution_count": 11,
   "metadata": {},
   "outputs": [],
   "source": [
    "def decorateArgs(fn):\n",
    "    def newFn(*args, **kwargs):\n",
    "        print(type(args), args)\n",
    "        return fn(*args, **kwargs)\n",
    "    return newFn"
   ]
  },
  {
   "cell_type": "code",
   "execution_count": 12,
   "metadata": {},
   "outputs": [],
   "source": [
    "def decorateName(fn):\n",
    "    def newFn(*args, **kwargs):\n",
    "        print(fn.__name__, \"is running\")\n",
    "        return fn(*args, **kwargs)\n",
    "    return newFn"
   ]
  },
  {
   "cell_type": "code",
   "execution_count": 13,
   "metadata": {},
   "outputs": [
    {
     "name": "stdout",
     "output_type": "stream",
     "text": [
      "<class 'tuple'> (10, 20)\n",
      "plus is running\n"
     ]
    },
    {
     "data": {
      "text/plain": [
       "30"
      ]
     },
     "execution_count": 13,
     "metadata": {},
     "output_type": "execute_result"
    }
   ],
   "source": [
    "@decorateArgs\n",
    "@decorateName\n",
    "def plus(a, b):\n",
    "    return a + b\n",
    "\n",
    "plus(10, 20)"
   ]
  },
  {
   "cell_type": "code",
   "execution_count": null,
   "metadata": {},
   "outputs": [],
   "source": []
  }
 ],
 "metadata": {
  "kernelspec": {
   "display_name": "Python 3",
   "language": "python",
   "name": "python3"
  },
  "language_info": {
   "codemirror_mode": {
    "name": "ipython",
    "version": 3
   },
   "file_extension": ".py",
   "mimetype": "text/x-python",
   "name": "python",
   "nbconvert_exporter": "python",
   "pygments_lexer": "ipython3",
   "version": "3.8.2"
  }
 },
 "nbformat": 4,
 "nbformat_minor": 4
}
