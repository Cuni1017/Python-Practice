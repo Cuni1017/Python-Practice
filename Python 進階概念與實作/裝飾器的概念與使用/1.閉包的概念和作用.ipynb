{
 "cells": [
  {
   "cell_type": "markdown",
   "metadata": {},
   "source": [
    "## 1. function本身就是一個物件"
   ]
  },
  {
   "cell_type": "code",
   "execution_count": 3,
   "metadata": {},
   "outputs": [
    {
     "name": "stdout",
     "output_type": "stream",
     "text": [
      "open eyes\n",
      "good morning\n"
     ]
    }
   ],
   "source": [
    "def good_morning():\n",
    "    print(\"good morning\")\n",
    "\n",
    "def get_up(greeting):\n",
    "    print(\"open eyes\")\n",
    "    greeting()\n",
    "    \n",
    "get_up(good_morning)"
   ]
  },
  {
   "cell_type": "markdown",
   "metadata": {
    "pycharm": {
     "name": "#%% md\n"
    }
   },
   "source": [
    "## 2. 傳遞帶參數的function物件\n"
   ]
  },
  {
   "cell_type": "code",
   "execution_count": 4,
   "metadata": {},
   "outputs": [
    {
     "name": "stdout",
     "output_type": "stream",
     "text": [
      "open eyes\n",
      "good morning to Tom\n"
     ]
    }
   ],
   "source": [
    "def good_morning_to(name):\n",
    "    print(\"good morning to\", name)\n",
    "    \n",
    "def get_up_tom(greeting):\n",
    "    print(\"open eyes\")\n",
    "    greeting(\"Tom\")\n",
    "\n",
    "get_up_tom(good_morning_to)"
   ]
  },
  {
   "cell_type": "code",
   "execution_count": 6,
   "metadata": {
    "pycharm": {
     "name": "#%%\n"
    }
   },
   "outputs": [
    {
     "name": "stdout",
     "output_type": "stream",
     "text": [
      "open eyes\n",
      "good morning to Tom\n"
     ]
    }
   ],
   "source": [
    "class GoodMorning:\n",
    "    def __init__(self, name):\n",
    "        self.name = name\n",
    "    def good_morning(self):\n",
    "        print(\"good morning to\", self.name)\n",
    "        \n",
    "def get_up(greeting):\n",
    "    print(\"open eyes\")\n",
    "    greeting.good_morning()\n",
    "    \n",
    "get_up(GoodMorning(\"Tom\"))"
   ]
  },
  {
   "cell_type": "markdown",
   "metadata": {
    "pycharm": {
     "name": "#%% md\n"
    }
   },
   "source": [
    "## 3. 簡單閉包"
   ]
  },
  {
   "cell_type": "code",
   "execution_count": 9,
   "metadata": {
    "pycharm": {
     "name": "#%%\n"
    }
   },
   "outputs": [
    {
     "name": "stdout",
     "output_type": "stream",
     "text": [
      "open eyes\n",
      "good morning to Alice\n"
     ]
    }
   ],
   "source": [
    "# create_morning_fn 建立了一個function物件\n",
    "# 建立的內部的function name 存了這個外面的function的變數/變量 ---> 閉包\n",
    "# 閉包： 在內部函數中對外部函數中的變量和作用域進行引用\n",
    "\n",
    "def create_morning_fn(name):\n",
    "    def good_morning_to():\n",
    "        print(\"good morning to\", name)\n",
    "    return good_morning_to\n",
    "\n",
    "def get_up(greeting):\n",
    "    print(\"open eyes\")\n",
    "    greeting()\n",
    "\n",
    "get_up(create_morning_fn(\"Alice\"))"
   ]
  },
  {
   "cell_type": "markdown",
   "metadata": {
    "pycharm": {
     "name": "#%% md\n"
    }
   },
   "source": [
    "## 4. 稍微複雜一點的閉包"
   ]
  },
  {
   "cell_type": "code",
   "execution_count": null,
   "outputs": [],
   "source": [
    "# print出 2*0, 2*1, 2*2, ... 2*5"
   ],
   "metadata": {
    "collapsed": false,
    "pycharm": {
     "name": "#%%\n"
    }
   }
  },
  {
   "cell_type": "code",
   "execution_count": null,
   "outputs": [],
   "source": [
    "a = 2\n",
    "for i in range(6):\n",
    "    print(a * i)"
   ],
   "metadata": {
    "collapsed": false,
    "pycharm": {
     "name": "#%%\n"
    }
   }
  },
  {
   "cell_type": "code",
   "execution_count": null,
   "outputs": [],
   "source": [
    "def make_times(base):\n",
    "    def times(x):\n",
    "        print(base * x)\n",
    "    return times\n",
    "\n",
    "t = make_times(2)\n",
    "for i in range(6):\n",
    "    t(i)"
   ],
   "metadata": {
    "collapsed": false,
    "pycharm": {
     "name": "#%%\n"
    }
   }
  },
  {
   "cell_type": "code",
   "execution_count": null,
   "outputs": [],
   "source": [],
   "metadata": {
    "collapsed": false,
    "pycharm": {
     "name": "#%%\n"
    }
   }
  },
  {
   "cell_type": "code",
   "execution_count": 23,
   "metadata": {
    "pycharm": {
     "name": "#%%\n"
    }
   },
   "outputs": [],
   "source": []
  },
  {
   "cell_type": "code",
   "execution_count": 10,
   "metadata": {},
   "outputs": [
    {
     "name": "stdout",
     "output_type": "stream",
     "text": [
      "0\n",
      "2\n",
      "4\n",
      "6\n",
      "8\n",
      "10\n"
     ]
    }
   ],
   "source": [
    "a = 2\n",
    "for i in range(6):\n",
    "    print(a * i)"
   ]
  },
  {
   "cell_type": "code",
   "execution_count": 11,
   "metadata": {},
   "outputs": [
    {
     "name": "stdout",
     "output_type": "stream",
     "text": [
      "0\n",
      "2\n",
      "4\n",
      "6\n",
      "8\n",
      "10\n"
     ]
    }
   ],
   "source": [
    "def make_times(base):\n",
    "    def times(x):\n",
    "        print(base * x)\n",
    "    return times\n",
    "\n",
    "t = make_times(2)\n",
    "for i in range(6):\n",
    "    t(i)"
   ]
  },
  {
   "cell_type": "code",
   "execution_count": null,
   "metadata": {},
   "outputs": [],
   "source": []
  }
 ],
 "metadata": {
  "kernelspec": {
   "display_name": "Python 3",
   "language": "python",
   "name": "python3"
  },
  "language_info": {
   "codemirror_mode": {
    "name": "ipython",
    "version": 3
   },
   "file_extension": ".py",
   "mimetype": "text/x-python",
   "name": "python",
   "nbconvert_exporter": "python",
   "pygments_lexer": "ipython3",
   "version": "3.8.2"
  },
  "pycharm": {
   "stem_cell": {
    "cell_type": "raw",
    "source": [],
    "metadata": {
     "collapsed": false
    }
   }
  }
 },
 "nbformat": 4,
 "nbformat_minor": 4
}