{
 "cells": [
  {
   "cell_type": "code",
   "execution_count": 43,
   "metadata": {},
   "outputs": [],
   "source": [
    "# 情景：Mark出生時母語是中文，後來搬到美國10年之後，變成講英文。"
   ]
  },
  {
   "cell_type": "code",
   "execution_count": 44,
   "metadata": {},
   "outputs": [],
   "source": [
    "class Person:\n",
    "    def __init__(self, name):\n",
    "        self.name = name"
   ]
  },
  {
   "cell_type": "code",
   "execution_count": 45,
   "metadata": {},
   "outputs": [],
   "source": [
    "class ChineseSpeaker(Person):\n",
    "    def speak(self):\n",
    "        print(self.name + \" speaks Chinese.\")"
   ]
  },
  {
   "cell_type": "code",
   "execution_count": 46,
   "metadata": {},
   "outputs": [],
   "source": [
    "class EnglishSpeaker(Person):\n",
    "    def speak(self):\n",
    "        print(self.name + \" speaks English.\")"
   ]
  },
  {
   "cell_type": "code",
   "execution_count": 47,
   "metadata": {},
   "outputs": [
    {
     "name": "stdout",
     "output_type": "stream",
     "text": [
      "Mark speaks Chinese.\n"
     ]
    }
   ],
   "source": [
    "mark = ChineseSpeaker(\"Mark\")\n",
    "mark.speak()"
   ]
  },
  {
   "cell_type": "code",
   "execution_count": 48,
   "metadata": {},
   "outputs": [
    {
     "name": "stdout",
     "output_type": "stream",
     "text": [
      "After 10 years in the U.S.\n",
      "Mark speaks English.\n"
     ]
    }
   ],
   "source": [
    "print(\"After 10 years in the U.S.\")\n",
    "mark = EnglishSpeaker(\"Mark\")\n",
    "mark.speak()"
   ]
  },
  {
   "cell_type": "code",
   "execution_count": 49,
   "metadata": {},
   "outputs": [],
   "source": [
    "# Mark 出生母語中文的學生 .... 英文的學生\n",
    "# class ChineseStudent(ChineseSpeaker)\n",
    "# class ChineseComputerStudent(ChineseStudent)\n",
    "# 濫用繼承 -> ”組合爆炸“"
   ]
  },
  {
   "cell_type": "code",
   "execution_count": 50,
   "metadata": {},
   "outputs": [],
   "source": [
    "# 解決： 依賴注入---> 讓一個物件成為另一個物件的一部分，成為另一個物件的屬性\n",
    "#    speaker成為Person的屬性\n",
    "#    將speaker 注入到Person裡面: Person依賴speaker, 動作 依賴注入"
   ]
  },
  {
   "cell_type": "code",
   "execution_count": 56,
   "metadata": {},
   "outputs": [],
   "source": [
    "class Person:\n",
    "    def __init__(self, name, speaker): # Inject 注入\n",
    "        self.name = name\n",
    "        self.speaker = speaker\n",
    "    \n",
    "    def set_speaker(self, speaker): # set inject set注入\n",
    "        self.speaker = speaker\n",
    "        \n",
    "    def set_job(self, j):\n",
    "        self.job = j\n",
    "    \n",
    "    def speak(self):\n",
    "        print(self.name, end=\" \") # 不換行\n",
    "        self.speaker.speak() # Polymorphism 多型"
   ]
  },
  {
   "cell_type": "code",
   "execution_count": 57,
   "metadata": {},
   "outputs": [],
   "source": [
    "class ChineseSpeaker:\n",
    "    def speak(self):\n",
    "        print(\"speaks in Chinese\")"
   ]
  },
  {
   "cell_type": "code",
   "execution_count": 58,
   "metadata": {},
   "outputs": [],
   "source": [
    "class EnglishSpeaker:\n",
    "    def speak(self):\n",
    "        print(\"speaks in English\")"
   ]
  },
  {
   "cell_type": "code",
   "execution_count": 59,
   "metadata": {},
   "outputs": [
    {
     "name": "stdout",
     "output_type": "stream",
     "text": [
      "Mark speaks in Chinese\n"
     ]
    }
   ],
   "source": [
    "mark = Person(\"Mark\", ChineseSpeaker())\n",
    "mark.speak()"
   ]
  },
  {
   "cell_type": "code",
   "execution_count": 60,
   "metadata": {},
   "outputs": [
    {
     "name": "stdout",
     "output_type": "stream",
     "text": [
      "After 10 years in the U.S.\n",
      "Mark speaks in English\n"
     ]
    }
   ],
   "source": [
    "print(\"After 10 years in the U.S.\")\n",
    "mark.set_speaker(EnglishSpeaker())\n",
    "mark.speak()"
   ]
  },
  {
   "cell_type": "code",
   "execution_count": null,
   "metadata": {},
   "outputs": [],
   "source": [
    "# 設計原則： Single-responsibiliy Principle (單一功能原則)\n",
    "# 一個物件只要做好一件事， Person處理名字， Speaker處理語言"
   ]
  }
 ],
 "metadata": {
  "kernelspec": {
   "display_name": "Python 3 (ipykernel)",
   "language": "python",
   "name": "python3"
  },
  "language_info": {
   "codemirror_mode": {
    "name": "ipython",
    "version": 3
   },
   "file_extension": ".py",
   "mimetype": "text/x-python",
   "name": "python",
   "nbconvert_exporter": "python",
   "pygments_lexer": "ipython3",
   "version": "3.12.4"
  }
 },
 "nbformat": 4,
 "nbformat_minor": 4
}
