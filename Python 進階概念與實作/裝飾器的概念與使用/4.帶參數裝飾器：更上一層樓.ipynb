{
 "cells": [
  {
   "cell_type": "markdown",
   "metadata": {},
   "source": [
    "# 1. 上一堂課的裝飾器"
   ]
  },
  {
   "cell_type": "code",
   "execution_count": 4,
   "metadata": {},
   "outputs": [],
   "source": [
    "def decorateOp(fn): # decorator\n",
    "    # *： 將可變的位置參數(positional arguments)對應到 tuple\n",
    "    # **: 將可變的字典參數(key-val arguments)對應到 dict\n",
    "    def newFn(*args, **kwargs):\n",
    "        print(type(args), args)\n",
    "        print(type(kwargs), kwargs)\n",
    "        if fn.__name__ == \"\":\n",
    "            print(\"warning\", fn.__name__, \"is running\")\n",
    "        return fn(*args, **kwargs)\n",
    "    return newFn\n",
    "\n",
    "@decorateOp\n",
    "def plusplus(a, b, c):\n",
    "    return a + b + c\n",
    "\n",
    "@decorateOp\n",
    "def plus(a, b):\n",
    "    return a + b"
   ]
  },
  {
   "cell_type": "code",
   "execution_count": 5,
   "metadata": {},
   "outputs": [
    {
     "name": "stdout",
     "output_type": "stream",
     "text": [
      "<class 'tuple'> (1, 2, 3)\n",
      "<class 'dict'> {}\n"
     ]
    },
    {
     "data": {
      "text/plain": [
       "6"
      ]
     },
     "execution_count": 5,
     "metadata": {},
     "output_type": "execute_result"
    }
   ],
   "source": [
    "plusplus(1,2,3)"
   ]
  },
  {
   "cell_type": "code",
   "execution_count": 6,
   "metadata": {},
   "outputs": [
    {
     "name": "stdout",
     "output_type": "stream",
     "text": [
      "<class 'tuple'> (1, 2)\n",
      "<class 'dict'> {}\n"
     ]
    },
    {
     "data": {
      "text/plain": [
       "3"
      ]
     },
     "execution_count": 6,
     "metadata": {},
     "output_type": "execute_result"
    }
   ],
   "source": [
    "plus(1,2)"
   ]
  },
  {
   "cell_type": "code",
   "execution_count": null,
   "metadata": {},
   "outputs": [],
   "source": [
    "# 需求：在print出來的 is running, args, kwargs 加關鍵字： ”warning“, \"info\""
   ]
  },
  {
   "cell_type": "markdown",
   "metadata": {},
   "source": [
    "# 2. 帶參數的裝飾器"
   ]
  },
  {
   "cell_type": "code",
   "execution_count": 8,
   "metadata": {},
   "outputs": [],
   "source": [
    "# getDecorator是帶參數的裝飾器，本質上 就是回傳一個decorator的function\n",
    "def getDecorator(keyword): # getDecorator就是負責創建decorator的function\n",
    "    def decorateOp(fn): # decorator\n",
    "        # *： 將可變的位置參數(positional arguments)對應到 tuple\n",
    "        # **: 將可變的字典參數(key-val arguments)對應到 dict\n",
    "        def newFn(*args, **kwargs):\n",
    "            print(keyword, type(args), args)\n",
    "            print(keyword, type(kwargs), kwargs)\n",
    "            if fn.__name__ == \"\":\n",
    "                print(\"warning\", fn.__name__, \"is running\")\n",
    "            return fn(*args, **kwargs)\n",
    "        return newFn\n",
    "    return decorateOp"
   ]
  },
  {
   "cell_type": "code",
   "execution_count": 13,
   "metadata": {},
   "outputs": [],
   "source": [
    "# assign 了 warning 的裝飾器\n",
    "# decorateOp\n",
    "@getDecorator(\"error\")\n",
    "def plus(a, b):\n",
    "    return a + b\n",
    "\n",
    "@getDecorator(\"info\")\n",
    "def plus2(a, b):\n",
    "    return a + b + b"
   ]
  },
  {
   "cell_type": "code",
   "execution_count": 15,
   "metadata": {},
   "outputs": [
    {
     "name": "stdout",
     "output_type": "stream",
     "text": [
      "error <class 'tuple'> (1, 2)\n",
      "error <class 'dict'> {}\n",
      "info <class 'tuple'> (2, 3)\n",
      "info <class 'dict'> {}\n"
     ]
    },
    {
     "data": {
      "text/plain": [
       "8"
      ]
     },
     "execution_count": 15,
     "metadata": {},
     "output_type": "execute_result"
    }
   ],
   "source": [
    "plus(1, 2)\n",
    "plus2(2, 3)"
   ]
  },
  {
   "cell_type": "markdown",
   "metadata": {},
   "source": [
    "# 3. 帶參數的裝飾器 例2"
   ]
  },
  {
   "cell_type": "code",
   "execution_count": null,
   "metadata": {},
   "outputs": [],
   "source": [
    "# 需求： 定義一個帶參數的裝飾器，傳入的參數是flag boolean (True, False)，\n",
    "# 當flag為true時print出func name, false時不要print出func name 保持原來的function的狀態"
   ]
  },
  {
   "cell_type": "code",
   "execution_count": 16,
   "metadata": {},
   "outputs": [],
   "source": [
    "def getDecorator2(flag): # getDecorator就是負責創建decorator的function\n",
    "    def decorateOp(fn): # decorator\n",
    "        def newFn(*args, **kwargs):\n",
    "            if flag:\n",
    "                print(fn.__name__, \"is the function name\")\n",
    "            return fn(*args, **kwargs)\n",
    "        return newFn\n",
    "    return decorateOp"
   ]
  },
  {
   "cell_type": "code",
   "execution_count": 19,
   "metadata": {},
   "outputs": [],
   "source": [
    "@getDecorator2(False)\n",
    "def plus(a, b):\n",
    "    return a + b"
   ]
  },
  {
   "cell_type": "code",
   "execution_count": 20,
   "metadata": {},
   "outputs": [
    {
     "data": {
      "text/plain": [
       "3"
      ]
     },
     "execution_count": 20,
     "metadata": {},
     "output_type": "execute_result"
    }
   ],
   "source": [
    "plus(1, 2)"
   ]
  },
  {
   "cell_type": "code",
   "execution_count": null,
   "metadata": {},
   "outputs": [],
   "source": []
  }
 ],
 "metadata": {
  "kernelspec": {
   "display_name": "Python 3",
   "language": "python",
   "name": "python3"
  },
  "language_info": {
   "codemirror_mode": {
    "name": "ipython",
    "version": 3
   },
   "file_extension": ".py",
   "mimetype": "text/x-python",
   "name": "python",
   "nbconvert_exporter": "python",
   "pygments_lexer": "ipython3",
   "version": "3.8.2"
  }
 },
 "nbformat": 4,
 "nbformat_minor": 4
}
