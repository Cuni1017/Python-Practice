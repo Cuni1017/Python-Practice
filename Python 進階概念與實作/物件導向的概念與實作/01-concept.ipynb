{
 "cells": [
  {
   "cell_type": "code",
   "execution_count": 1,
   "metadata": {},
   "outputs": [],
   "source": [
    "def talk(name, sentence):\n",
    "    print(name + \" says:\" + sentence)"
   ]
  },
  {
   "cell_type": "code",
   "execution_count": 2,
   "metadata": {},
   "outputs": [
    {
     "name": "stdout",
     "output_type": "stream",
     "text": [
      "Alice says:Hello\n",
      "Bob says:World\n"
     ]
    }
   ],
   "source": [
    "talk(\"Alice\", \"Hello\")\n",
    "talk(\"Bob\", \"World\")"
   ]
  },
  {
   "cell_type": "code",
   "execution_count": 3,
   "metadata": {},
   "outputs": [],
   "source": [
    "def talkForAlice(sentence):\n",
    "    name=\"Alice\"\n",
    "    print(name + \" says:\" + sentence)"
   ]
  },
  {
   "cell_type": "code",
   "execution_count": 4,
   "metadata": {},
   "outputs": [],
   "source": [
    "def talkForBob(sentence):\n",
    "    name=\"Bob\"\n",
    "    print(name + \" says:\" + sentence)"
   ]
  },
  {
   "cell_type": "code",
   "execution_count": 5,
   "metadata": {},
   "outputs": [
    {
     "name": "stdout",
     "output_type": "stream",
     "text": [
      "Alice says:Hello\n",
      "Bob says:World\n",
      "Alice says:Hello2\n"
     ]
    }
   ],
   "source": [
    "talkForAlice(\"Hello\")\n",
    "talkForBob(\"World\")\n",
    "talkForAlice(\"Hello2\")"
   ]
  },
  {
   "cell_type": "code",
   "execution_count": 6,
   "metadata": {},
   "outputs": [],
   "source": [
    "# Class 類別 -> 模板 -> 創造實體\n",
    "# Class Person\n",
    "# name -> 屬性 -> 特征 ： 類別定義的Attribute(屬性)， member variable(成員變量)\n",
    "# speak -> 方法 -> 行為： 類別定義的Method(方法)， member function(成員函數)"
   ]
  },
  {
   "cell_type": "code",
   "execution_count": 3,
   "metadata": {},
   "outputs": [],
   "source": [
    "class Person:\n",
    "    name = \"\"\n",
    "    def speak(self, sentence): # 規定第一個參數是self， 用來在function中存取這個物件的值或者函數\n",
    "        print(self.name + \" says\" + sentence)"
   ]
  },
  {
   "cell_type": "code",
   "execution_count": 5,
   "metadata": {},
   "outputs": [],
   "source": [
    "alice = Person() # 類別是一個模板，我們用()創造出他的實體。 類別 --實例化，實體化---> Object(物件) / Instance (實例， 實體)"
   ]
  },
  {
   "cell_type": "code",
   "execution_count": 7,
   "metadata": {
    "collapsed": false,
    "jupyter": {
     "outputs_hidden": false
    },
    "pycharm": {
     "name": "#%%\n"
    }
   },
   "outputs": [],
   "source": [
    "bob = Person()"
   ]
  },
  {
   "cell_type": "code",
   "execution_count": 9,
   "metadata": {
    "collapsed": false,
    "jupyter": {
     "outputs_hidden": false
    },
    "pycharm": {
     "name": "#%%\n"
    }
   },
   "outputs": [],
   "source": [
    "alice.name = \"Alice\"\n",
    "bob.name = \"Bob\""
   ]
  },
  {
   "cell_type": "code",
   "execution_count": 11,
   "metadata": {
    "collapsed": false,
    "jupyter": {
     "outputs_hidden": false
    },
    "pycharm": {
     "name": "#%%\n"
    }
   },
   "outputs": [
    {
     "name": "stdout",
     "output_type": "stream",
     "text": [
      "Alice saysHello\n",
      "Bob saysWorld\n",
      "Alice saysHello2\n"
     ]
    }
   ],
   "source": [
    "alice.speak(\"Hello\")\n",
    "bob.speak(\"World\")\n",
    "alice.speak(\"Hello2\")"
   ]
  },
  {
   "cell_type": "code",
   "execution_count": 9,
   "metadata": {},
   "outputs": [],
   "source": []
  },
  {
   "cell_type": "code",
   "execution_count": 10,
   "metadata": {},
   "outputs": [],
   "source": [
    "alice.name = \"Alice\"\n",
    "bob.name = \"Bob\""
   ]
  },
  {
   "cell_type": "code",
   "execution_count": 11,
   "metadata": {},
   "outputs": [
    {
     "name": "stdout",
     "output_type": "stream",
     "text": [
      "Alice saysHello\n",
      "Bob saysWorld\n",
      "Alice saysHello2\n"
     ]
    }
   ],
   "source": [
    "alice.speak(\"Hello\")\n",
    "bob.speak(\"World\")\n",
    "alice.speak(\"Hello2\")"
   ]
  },
  {
   "cell_type": "code",
   "execution_count": 41,
   "metadata": {},
   "outputs": [],
   "source": [
    "class TestA:\n",
    "    def __init__(name):\n",
    "        print(name)\n",
    "        name.name = name\n",
    "\n",
    "    def introduce(self, sentence):\n",
    "        print(f'my name is {self.name}, {sentence}')"
   ]
  },
  {
   "cell_type": "code",
   "execution_count": 43,
   "metadata": {},
   "outputs": [
    {
     "name": "stdout",
     "output_type": "stream",
     "text": [
      "<__main__.TestA object at 0x147f27560>\n"
     ]
    }
   ],
   "source": [
    "alice = TestA()"
   ]
  },
  {
   "cell_type": "code",
   "execution_count": 45,
   "metadata": {},
   "outputs": [
    {
     "name": "stdout",
     "output_type": "stream",
     "text": [
      "my name is <__main__.TestA object at 0x147f27560>, hello!\n"
     ]
    }
   ],
   "source": [
    "alice.introduce('hello!')"
   ]
  },
  {
   "cell_type": "code",
   "execution_count": null,
   "metadata": {},
   "outputs": [],
   "source": []
  }
 ],
 "metadata": {
  "kernelspec": {
   "display_name": "Python 3 (ipykernel)",
   "language": "python",
   "name": "python3"
  },
  "language_info": {
   "codemirror_mode": {
    "name": "ipython",
    "version": 3
   },
   "file_extension": ".py",
   "mimetype": "text/x-python",
   "name": "python",
   "nbconvert_exporter": "python",
   "pygments_lexer": "ipython3",
   "version": "3.12.4"
  },
  "pycharm": {
   "stem_cell": {
    "cell_type": "raw",
    "metadata": {
     "collapsed": false
    },
    "source": []
   }
  }
 },
 "nbformat": 4,
 "nbformat_minor": 4
}
