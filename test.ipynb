{
 "cells": [
  {
   "cell_type": "code",
   "execution_count": 1,
   "id": "5decc385-8010-4ebb-9d7b-c4563260b420",
   "metadata": {},
   "outputs": [
    {
     "name": "stdout",
     "output_type": "stream",
     "text": [
      "hello world!\n"
     ]
    }
   ],
   "source": [
    "print('hello world!')"
   ]
  },
  {
   "cell_type": "code",
   "execution_count": 9,
   "id": "8579316c-b645-4832-8ffb-92c9e3f505b1",
   "metadata": {},
   "outputs": [
    {
     "name": "stdout",
     "output_type": "stream",
     "text": [
      "2e-05\n"
     ]
    }
   ],
   "source": [
    "print(2e-5)"
   ]
  },
  {
   "cell_type": "code",
   "execution_count": 15,
   "id": "427ab0a6-58b2-4a4a-b895-9a8ad6438c2a",
   "metadata": {},
   "outputs": [],
   "source": [
    "list = ['a','b','c','a']\n",
    "\n",
    "list_set = set(list)"
   ]
  },
  {
   "cell_type": "code",
   "execution_count": 17,
   "id": "ff0fd88a-c0ec-4322-ab11-3d2cf582d12b",
   "metadata": {},
   "outputs": [
    {
     "data": {
      "text/plain": [
       "{'a', 'b', 'c'}"
      ]
     },
     "execution_count": 17,
     "metadata": {},
     "output_type": "execute_result"
    }
   ],
   "source": [
    "list_set"
   ]
  },
  {
   "cell_type": "code",
   "execution_count": 23,
   "id": "82c2c521-a3ff-4d27-9cd1-d281f0bd28b1",
   "metadata": {},
   "outputs": [
    {
     "ename": "SyntaxError",
     "evalue": "invalid syntax (3906973859.py, line 1)",
     "output_type": "error",
     "traceback": [
      "\u001b[0;36m  Cell \u001b[0;32mIn[23], line 1\u001b[0;36m\u001b[0m\n\u001b[0;31m    let a = tuple()\u001b[0m\n\u001b[0m        ^\u001b[0m\n\u001b[0;31mSyntaxError\u001b[0m\u001b[0;31m:\u001b[0m invalid syntax\n"
     ]
    }
   ],
   "source": [
    "let a = tuple()"
   ]
  },
  {
   "cell_type": "code",
   "execution_count": 30,
   "id": "902830af-27c7-4e94-b3bf-17123814d505",
   "metadata": {},
   "outputs": [],
   "source": [
    "a = tuple((1,2,3,4))"
   ]
  },
  {
   "cell_type": "code",
   "execution_count": 27,
   "id": "8075eea2-1bc8-4e9e-aeea-2a16bff0f767",
   "metadata": {},
   "outputs": [
    {
     "data": {
      "text/plain": [
       "(1, 2, 3, 4)"
      ]
     },
     "execution_count": 27,
     "metadata": {},
     "output_type": "execute_result"
    }
   ],
   "source": [
    "a"
   ]
  },
  {
   "cell_type": "code",
   "execution_count": 35,
   "id": "ffd62c7f-e979-4ba7-86a7-b9021e814005",
   "metadata": {},
   "outputs": [],
   "source": [
    "list = [1,2,3.14]"
   ]
  },
  {
   "cell_type": "code",
   "execution_count": 29,
   "id": "3566f02a-e86f-44bd-b2e6-abb6b7b87b56",
   "metadata": {},
   "outputs": [
    {
     "data": {
      "text/plain": [
       "3.14"
      ]
     },
     "execution_count": 29,
     "metadata": {},
     "output_type": "execute_result"
    }
   ],
   "source": [
    "list[2]"
   ]
  },
  {
   "cell_type": "code",
   "execution_count": 31,
   "id": "60ded0e5-6c15-49e3-9ac9-ad245f856fc5",
   "metadata": {},
   "outputs": [],
   "source": [
    "list[2] = 7"
   ]
  },
  {
   "cell_type": "code",
   "execution_count": 37,
   "id": "b9a0bad6-620e-494d-9e49-224941f2ccd1",
   "metadata": {},
   "outputs": [
    {
     "data": {
      "text/plain": [
       "3.14"
      ]
     },
     "execution_count": 37,
     "metadata": {},
     "output_type": "execute_result"
    }
   ],
   "source": [
    "list[2]"
   ]
  },
  {
   "cell_type": "code",
   "execution_count": 43,
   "id": "011ac8c2-33e9-4710-bb24-05eb43e3c529",
   "metadata": {},
   "outputs": [
    {
     "data": {
      "text/plain": [
       "'\\n#tuple \\n    以 () 顯示，不可修改，有順序\\n#list\\n    以 [] 顯示，可修改，有順序\\n#dict\\n    以 {} 顯示，可修改，無順序，但 key 值唯一\\n#set\\n'"
      ]
     },
     "execution_count": 43,
     "metadata": {},
     "output_type": "execute_result"
    }
   ],
   "source": [
    "'''\n",
    "#tuple \n",
    "    可以 tuple() 或 () 建立，以 () 顯示，不可修改，有順序\n",
    "#list\n",
    "    可以 list() 或 [] 建立，以 [] 顯示，可修改，有順序\n",
    "#dict\n",
    "    可以 dict{} 或 {} 建立，以 {} 顯示，可修改，無順序，但 key 值重複則後面的會蓋前面的\n",
    "#set\n",
    "    以 set() 建立，也以 {} 顯示，可修改，但沒有 key，且會過濾重複值\n",
    "'''"
   ]
  },
  {
   "cell_type": "code",
   "execution_count": 87,
   "id": "48d66734-5d8d-4dc8-8e11-2f8ca9526806",
   "metadata": {},
   "outputs": [],
   "source": [
    "a = [1,2,3,1,4]\n",
    "b = (5,6,7,8,7)\n",
    "c = {'c1': 1, 'c2': 2, 'c3': 4, 'c1': 2} #後面的"
   ]
  },
  {
   "cell_type": "code",
   "execution_count": 83,
   "id": "600d6141-8236-44d7-a420-39efda3c785d",
   "metadata": {},
   "outputs": [],
   "source": [
    "a_set = set(a)\n",
    "b_set = set(b)\n",
    "c_set = set(c)"
   ]
  },
  {
   "cell_type": "code",
   "execution_count": 75,
   "id": "f19b1622-08df-450c-ad69-57028e8be0b2",
   "metadata": {},
   "outputs": [
    {
     "data": {
      "text/plain": [
       "{1, 2, 3, 4}"
      ]
     },
     "execution_count": 75,
     "metadata": {},
     "output_type": "execute_result"
    }
   ],
   "source": [
    "a_set"
   ]
  },
  {
   "cell_type": "code",
   "execution_count": 77,
   "id": "96012e83-6392-42f7-bd3b-903aa01eb18d",
   "metadata": {},
   "outputs": [
    {
     "data": {
      "text/plain": [
       "{5, 6, 7, 8}"
      ]
     },
     "execution_count": 77,
     "metadata": {},
     "output_type": "execute_result"
    }
   ],
   "source": [
    "b_set"
   ]
  },
  {
   "cell_type": "code",
   "execution_count": 89,
   "id": "fac471f0-42c1-4aac-939f-9324abd45c5f",
   "metadata": {},
   "outputs": [
    {
     "data": {
      "text/plain": [
       "{'c1': 2, 'c2': 2, 'c3': 4}"
      ]
     },
     "execution_count": 89,
     "metadata": {},
     "output_type": "execute_result"
    }
   ],
   "source": [
    "c"
   ]
  },
  {
   "cell_type": "code",
   "execution_count": 85,
   "id": "7e0f9b33-603c-4b63-a67a-ad46d0433888",
   "metadata": {},
   "outputs": [
    {
     "data": {
      "text/plain": [
       "{'c1', 'c2', 'c3'}"
      ]
     },
     "execution_count": 85,
     "metadata": {},
     "output_type": "execute_result"
    }
   ],
   "source": [
    "c_set"
   ]
  },
  {
   "cell_type": "code",
   "execution_count": 93,
   "id": "35aab633-f271-4f4e-9cd8-b8e0529ac1bb",
   "metadata": {},
   "outputs": [],
   "source": [
    "list = [1,2,3,4,5,1]"
   ]
  },
  {
   "cell_type": "code",
   "execution_count": 99,
   "id": "dad85aa7-8f9f-4dc5-8aa9-556be3f1b602",
   "metadata": {},
   "outputs": [
    {
     "data": {
      "text/plain": [
       "[1, 2, 3, 4]"
      ]
     },
     "execution_count": 99,
     "metadata": {},
     "output_type": "execute_result"
    }
   ],
   "source": [
    "# list 切片\n",
    "list[:4]"
   ]
  },
  {
   "cell_type": "code",
   "execution_count": 97,
   "id": "eb8d3638-a04c-411e-91a8-93cb25de7a6f",
   "metadata": {},
   "outputs": [
    {
     "data": {
      "text/plain": [
       "[1, 2, 3, 4, 5, 1]"
      ]
     },
     "execution_count": 97,
     "metadata": {},
     "output_type": "execute_result"
    }
   ],
   "source": [
    "list[:]"
   ]
  },
  {
   "cell_type": "code",
   "execution_count": 101,
   "id": "3be9e067-106f-4dfe-b54d-2baf3914c4d6",
   "metadata": {},
   "outputs": [
    {
     "data": {
      "text/plain": [
       "[1, 3, 5]"
      ]
     },
     "execution_count": 101,
     "metadata": {},
     "output_type": "execute_result"
    }
   ],
   "source": [
    "list[::2]"
   ]
  },
  {
   "cell_type": "code",
   "execution_count": 145,
   "id": "03a5fbf7-e421-487a-89ce-a3e56fd14497",
   "metadata": {},
   "outputs": [],
   "source": [
    "# foo = tuple([1,2,])\n",
    "foo = 1,"
   ]
  },
  {
   "cell_type": "code",
   "execution_count": 147,
   "id": "e79c3e56-e275-4452-bbd4-8f144aa76356",
   "metadata": {},
   "outputs": [
    {
     "data": {
      "text/plain": [
       "tuple"
      ]
     },
     "execution_count": 147,
     "metadata": {},
     "output_type": "execute_result"
    }
   ],
   "source": [
    "type(foo)"
   ]
  },
  {
   "cell_type": "code",
   "execution_count": 149,
   "id": "8fec5772-410d-4fd1-8483-6410f862ca56",
   "metadata": {},
   "outputs": [
    {
     "data": {
      "text/plain": [
       "(1,)"
      ]
     },
     "execution_count": 149,
     "metadata": {},
     "output_type": "execute_result"
    }
   ],
   "source": [
    "foo"
   ]
  },
  {
   "cell_type": "code",
   "execution_count": 153,
   "id": "f36acc3b-3002-4454-8cf3-a290186aa36c",
   "metadata": {},
   "outputs": [],
   "source": [
    "dict = dict({\"name\": 'Cuni', \"age\": 23, \"skill\": 'JS,TS,Python'})"
   ]
  },
  {
   "cell_type": "code",
   "execution_count": 157,
   "id": "c9835f37-4d84-47c6-af21-f92f738a450a",
   "metadata": {},
   "outputs": [
    {
     "data": {
      "text/plain": [
       "dict"
      ]
     },
     "execution_count": 157,
     "metadata": {},
     "output_type": "execute_result"
    }
   ],
   "source": [
    "type(dict)"
   ]
  },
  {
   "cell_type": "code",
   "execution_count": 45,
   "id": "52a4fb65-94d4-435f-9254-297f907a7e52",
   "metadata": {},
   "outputs": [
    {
     "name": "stdin",
     "output_type": "stream",
     "text": [
      "limit: 100\n"
     ]
    },
    {
     "name": "stdout",
     "output_type": "stream",
     "text": [
      "2\n",
      "3\n",
      "5\n",
      "7\n",
      "11\n",
      "13\n",
      "17\n",
      "19\n",
      "23\n",
      "29\n",
      "31\n",
      "37\n",
      "41\n",
      "43\n",
      "47\n",
      "53\n",
      "59\n",
      "61\n",
      "67\n",
      "71\n",
      "73\n",
      "79\n",
      "83\n",
      "89\n",
      "97\n"
     ]
    }
   ],
   "source": [
    "n = int(input('limit:'))\n",
    "\n",
    "for i in range(2, n):\n",
    "    isPrime = True\n",
    "    for j in range(2, i):\n",
    "        if(i % j == 0):\n",
    "            isPrime = False\n",
    "            break\n",
    "    print(i) if isPrime else None"
   ]
  },
  {
   "cell_type": "code",
   "execution_count": null,
   "id": "9c03afd9-0b80-4733-bf7b-c4eebf5d777d",
   "metadata": {},
   "outputs": [],
   "source": []
  }
 ],
 "metadata": {
  "kernelspec": {
   "display_name": "Python 3 (ipykernel)",
   "language": "python",
   "name": "python3"
  },
  "language_info": {
   "codemirror_mode": {
    "name": "ipython",
    "version": 3
   },
   "file_extension": ".py",
   "mimetype": "text/x-python",
   "name": "python",
   "nbconvert_exporter": "python",
   "pygments_lexer": "ipython3",
   "version": "3.12.4"
  }
 },
 "nbformat": 4,
 "nbformat_minor": 5
}
