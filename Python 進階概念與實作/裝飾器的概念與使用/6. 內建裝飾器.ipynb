{
 "cells": [
  {
   "cell_type": "markdown",
   "metadata": {},
   "source": [
    "# @property: 類別裡面不用加括號的函數"
   ]
  },
  {
   "cell_type": "code",
   "execution_count": 4,
   "metadata": {},
   "outputs": [],
   "source": [
    "class Hamburger:\n",
    "    def getContent(self):\n",
    "        return \"Hamburger\"\n",
    "    \n",
    "    @property\n",
    "    def price(self):\n",
    "        return 50"
   ]
  },
  {
   "cell_type": "code",
   "execution_count": 6,
   "metadata": {},
   "outputs": [
    {
     "name": "stdout",
     "output_type": "stream",
     "text": [
      "50\n"
     ]
    }
   ],
   "source": [
    "h = Hamburger()\n",
    "print(h.price)"
   ]
  },
  {
   "cell_type": "markdown",
   "metadata": {},
   "source": [
    "# @classmethod： 不用實例化的就可以用的class函數 "
   ]
  },
  {
   "cell_type": "code",
   "execution_count": 29,
   "metadata": {},
   "outputs": [],
   "source": [
    "class Hamburger:\n",
    "    \n",
    "    @classmethod\n",
    "    def getContent(self):\n",
    "        print(self)\n",
    "        return \"Hamburger\"\n",
    "    \n",
    "    @property\n",
    "    def price(self):\n",
    "        return 50"
   ]
  },
  {
   "cell_type": "code",
   "execution_count": 30,
   "metadata": {},
   "outputs": [
    {
     "name": "stdout",
     "output_type": "stream",
     "text": [
      "<class '__main__.Hamburger'>\n",
      "Hamburger\n"
     ]
    }
   ],
   "source": [
    "# h = Hamburger() 不需要實例化成物件\n",
    "print(Hamburger.getContent())"
   ]
  },
  {
   "cell_type": "code",
   "execution_count": 25,
   "metadata": {},
   "outputs": [],
   "source": [
    "# 注意： 此時getContent屬於 Class Hamburger 的成員， 而不是 Hamburger實例化之後物件的成員"
   ]
  },
  {
   "cell_type": "markdown",
   "metadata": {},
   "source": [
    "# @staticmethod: 不用加self的instance函數 "
   ]
  },
  {
   "cell_type": "code",
   "execution_count": 31,
   "metadata": {},
   "outputs": [],
   "source": [
    "class Hamburger:\n",
    "    \n",
    "    @staticmethod\n",
    "    def getContent():\n",
    "        return \"Hamburger\"\n",
    "    \n",
    "    @property\n",
    "    def price(self):\n",
    "        return 50"
   ]
  },
  {
   "cell_type": "code",
   "execution_count": 32,
   "metadata": {},
   "outputs": [
    {
     "name": "stdout",
     "output_type": "stream",
     "text": [
      "Hamburger\n"
     ]
    }
   ],
   "source": [
    "h = Hamburger()\n",
    "print(h.getContent())"
   ]
  },
  {
   "cell_type": "code",
   "execution_count": null,
   "metadata": {},
   "outputs": [],
   "source": [
    "# 注意：getContent雖然沒有self，但staticmethod表示 它還是Hamburger實例化之後 h 物件的成員"
   ]
  }
 ],
 "metadata": {
  "kernelspec": {
   "display_name": "Python 3",
   "language": "python",
   "name": "python3"
  },
  "language_info": {
   "codemirror_mode": {
    "name": "ipython",
    "version": 3
   },
   "file_extension": ".py",
   "mimetype": "text/x-python",
   "name": "python",
   "nbconvert_exporter": "python",
   "pygments_lexer": "ipython3",
   "version": "3.8.2"
  }
 },
 "nbformat": 4,
 "nbformat_minor": 4
}
