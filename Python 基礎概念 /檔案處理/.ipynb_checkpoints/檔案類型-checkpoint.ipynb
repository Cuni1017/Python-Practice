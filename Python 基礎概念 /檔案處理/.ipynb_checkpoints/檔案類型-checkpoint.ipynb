{
 "cells": [
  {
   "cell_type": "markdown",
   "metadata": {},
   "source": [
    "## 檔案類型\n",
    "\n",
    "### 文字格式\n",
    "* txt\n",
    "* csv\n",
    "* html\n",
    "\n",
    "### 二進制格式\n",
    "* 圖片格式：jpg、png\n",
    "* 音頻格式：mp3\n",
    "* 影片格式：mov、mp4\n",
    "* 壓縮格式：zip、rar\n",
    "* 文件格式：ppt、doc、xls"
   ]
  },
  {
   "cell_type": "code",
   "execution_count": 4,
   "metadata": {},
   "outputs": [
    {
     "data": {
      "text/plain": [
       "<_io.TextIOWrapper name='./foo.txt' mode='w' encoding='UTF-8'>"
      ]
     },
     "execution_count": 4,
     "metadata": {},
     "output_type": "execute_result"
    }
   ],
   "source": [
    "open('./foo.txt', mode='w')"
   ]
  },
  {
   "cell_type": "code",
   "execution_count": 5,
   "metadata": {},
   "outputs": [],
   "source": [
    "# mode\n",
    "# r - read\n",
    "# w - write\n",
    "# x - exexute\n",
    "# a - append\n",
    "# b - binarary\n",
    "# t - text\n",
    "# + - update"
   ]
  },
  {
   "cell_type": "code",
   "execution_count": null,
   "metadata": {},
   "outputs": [],
   "source": [
    "open('./foo.txt', mode='w')"
   ]
  },
  {
   "cell_type": "code",
   "execution_count": 7,
   "metadata": {},
   "outputs": [
    {
     "data": {
      "text/plain": [
       "<_io.BufferedReader name='./87240511_101569888114582_3341499266550988800_o.png'>"
      ]
     },
     "execution_count": 7,
     "metadata": {},
     "output_type": "execute_result"
    }
   ],
   "source": [
    "open('./87240511_101569888114582_3341499266550988800_o.png', mode=\"rb\")"
   ]
  },
  {
   "cell_type": "code",
   "execution_count": null,
   "metadata": {},
   "outputs": [],
   "source": [
    "# r - 唯讀\n",
    "# w - 唯寫\n",
    "# r+, w+ - 可讀可寫\n",
    "# rb, wb - 處理二進制"
   ]
  }
 ],
 "metadata": {
  "kernelspec": {
   "display_name": "Python 3",
   "language": "python",
   "name": "python3"
  },
  "language_info": {
   "codemirror_mode": {
    "name": "ipython",
    "version": 3
   },
   "file_extension": ".py",
   "mimetype": "text/x-python",
   "name": "python",
   "nbconvert_exporter": "python",
   "pygments_lexer": "ipython3",
   "version": "3.7.6"
  }
 },
 "nbformat": 4,
 "nbformat_minor": 4
}
