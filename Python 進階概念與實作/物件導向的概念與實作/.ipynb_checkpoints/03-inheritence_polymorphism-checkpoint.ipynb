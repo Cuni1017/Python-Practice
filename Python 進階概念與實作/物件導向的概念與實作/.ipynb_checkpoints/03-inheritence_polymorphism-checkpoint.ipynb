{
 "cells": [
  {
   "cell_type": "code",
   "execution_count": 3,
   "metadata": {},
   "outputs": [],
   "source": [
    "class Person:\n",
    "    nationality = \"Taiwan\"\n",
    "    def __init__(self, name, age): # 初始化函數，構造函數 (constructor)\n",
    "        self.name = name\n",
    "        self.age = age\n",
    "        \n",
    "    def speak(self, sentence): # 規定第一個參數是self， 用來在function中存取這個物件的值或者函數\n",
    "        print(self.name + \" says\" + sentence)\n",
    "        \n",
    "    def introduce(self):\n",
    "        print(\"my name is \" + self.name)\n",
    "        print(\"my age is \" + str(self.age))\n",
    "        print(\"my nationality is \" + self.nationality)"
   ]
  },
  {
   "cell_type": "code",
   "execution_count": 4,
   "metadata": {},
   "outputs": [],
   "source": [
    "class Girl:\n",
    "    nationality = \"Taiwan\"\n",
    "    def __init__(self, name, age): # 初始化函數，構造函數 (constructor)\n",
    "        self.name = name\n",
    "        self.__age = age # private attribute\n",
    "        \n",
    "    def speak(self, sentence): # 規定第一個參數是self， 用來在function中存取這個物件的值或者函數\n",
    "        print(self.name + \" says\" + sentence)\n",
    "        \n",
    "    def introduce(self):\n",
    "        print(\"my name is \" + self.name)\n",
    "        print(\"my age is \" + str(self.__age))\n",
    "        print(\"my nationality is \" + self.nationality)"
   ]
  },
  {
   "cell_type": "code",
   "execution_count": 5,
   "metadata": {},
   "outputs": [],
   "source": [
    "# Student, Inheritence 繼承， 讓子類別得到父類別的Attribue跟Function, Person父類別 Student子類別\n",
    "class Student(Person):\n",
    "    def __init__(self, major, name, age):\n",
    "        super().__init__(name, age)\n",
    "        self.major = major\n",
    "\n",
    "    def study(self):\n",
    "        print(\"study \" + self.major)\n",
    "        \n",
    "    def introduce(self): # override 覆寫\n",
    "        super().introduce()\n",
    "        print(\"my major is \" + self.major)"
   ]
  },
  {
   "cell_type": "code",
   "execution_count": 6,
   "metadata": {},
   "outputs": [],
   "source": [
    "john = Student(\"computer\", \"John\", 25)"
   ]
  },
  {
   "cell_type": "code",
   "execution_count": 7,
   "metadata": {},
   "outputs": [
    {
     "name": "stdout",
     "output_type": "stream",
     "text": [
      "study computer\n"
     ]
    }
   ],
   "source": [
    "john.study()"
   ]
  },
  {
   "cell_type": "code",
   "execution_count": 8,
   "metadata": {},
   "outputs": [
    {
     "name": "stdout",
     "output_type": "stream",
     "text": [
      "my name is John\n",
      "my age is 25\n",
      "my nationality is Taiwan\n",
      "my major is computer\n"
     ]
    }
   ],
   "source": [
    "john.introduce()"
   ]
  },
  {
   "cell_type": "code",
   "execution_count": 9,
   "metadata": {},
   "outputs": [
    {
     "name": "stdout",
     "output_type": "stream",
     "text": [
      "John saysHello world\n"
     ]
    }
   ],
   "source": [
    "john.speak(\"Hello world\")"
   ]
  },
  {
   "cell_type": "code",
   "execution_count": 10,
   "metadata": {},
   "outputs": [],
   "source": [
    "mary = Girl(\"Mary\", 18)"
   ]
  },
  {
   "cell_type": "code",
   "execution_count": 11,
   "metadata": {},
   "outputs": [
    {
     "name": "stdout",
     "output_type": "stream",
     "text": [
      "my name is Mary\n",
      "my age is 18\n",
      "my nationality is Taiwan\n",
      "my name is John\n",
      "my age is 25\n",
      "my nationality is Taiwan\n",
      "my major is computer\n"
     ]
    }
   ],
   "source": [
    "for p in [mary, john]:\n",
    "    p.introduce()"
   ]
  },
  {
   "cell_type": "code",
   "execution_count": 12,
   "metadata": {},
   "outputs": [],
   "source": [
    "# Polymorphism 多型， 多態\n",
    "# 呼叫的行為由被呼叫的物件來決定"
   ]
  },
  {
   "cell_type": "code",
   "execution_count": 13,
   "metadata": {},
   "outputs": [],
   "source": [
    "# Encapsulation 封裝\n",
    "# 把資料和要處理啊的資料的Function 整理起來，放到一個Class的過程， 叫做封裝"
   ]
  },
  {
   "cell_type": "code",
   "execution_count": null,
   "metadata": {},
   "outputs": [],
   "source": [
    "# PIE : 物件導向的 三大特性 三大重點"
   ]
  }
 ],
 "metadata": {
  "kernelspec": {
   "display_name": "Python 3",
   "language": "python",
   "name": "python3"
  },
  "language_info": {
   "codemirror_mode": {
    "name": "ipython",
    "version": 3
   },
   "file_extension": ".py",
   "mimetype": "text/x-python",
   "name": "python",
   "nbconvert_exporter": "python",
   "pygments_lexer": "ipython3",
   "version": "3.8.2"
  }
 },
 "nbformat": 4,
 "nbformat_minor": 4
}
