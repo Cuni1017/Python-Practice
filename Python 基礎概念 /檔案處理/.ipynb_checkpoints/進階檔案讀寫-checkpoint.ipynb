{
 "cells": [
  {
   "cell_type": "code",
   "execution_count": 30,
   "metadata": {},
   "outputs": [
    {
     "name": "stdout",
     "output_type": "stream",
     "text": [
      "0\n",
      "\n",
      "0\n",
      "3\n",
      "\n"
     ]
    }
   ],
   "source": [
    "with open('./foo.txt', mode='w+') as f:\n",
    "#     print(f.fileno)\n",
    "    print(f.tell())\n",
    "    print(f.read())\n",
    "    print(f.tell())\n",
    "    f.seek(3)\n",
    "    print(f.tell())\n",
    "    print(f.read())\n",
    "    f.seek(0)\n",
    "    f.truncate(7)\n",
    "    f.flush()"
   ]
  },
  {
   "cell_type": "code",
   "execution_count": 20,
   "metadata": {},
   "outputs": [],
   "source": [
    "# file => file no\n",
    "# file pointer\n"
   ]
  },
  {
   "cell_type": "code",
   "execution_count": null,
   "metadata": {},
   "outputs": [],
   "source": []
  }
 ],
 "metadata": {
  "kernelspec": {
   "display_name": "Python 3",
   "language": "python",
   "name": "python3"
  },
  "language_info": {
   "codemirror_mode": {
    "name": "ipython",
    "version": 3
   },
   "file_extension": ".py",
   "mimetype": "text/x-python",
   "name": "python",
   "nbconvert_exporter": "python",
   "pygments_lexer": "ipython3",
   "version": "3.7.6"
  }
 },
 "nbformat": 4,
 "nbformat_minor": 4
}
