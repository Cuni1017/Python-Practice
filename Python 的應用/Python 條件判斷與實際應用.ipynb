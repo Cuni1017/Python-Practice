{
 "cells": [
  {
   "cell_type": "code",
   "execution_count": 10,
   "metadata": {},
   "outputs": [
    {
     "name": "stdout",
     "output_type": "stream",
     "text": [
      "XD\n"
     ]
    }
   ],
   "source": [
    "if 5 == 5:\n",
    "    print('XD')"
   ]
  },
  {
   "cell_type": "code",
   "execution_count": 7,
   "metadata": {},
   "outputs": [],
   "source": [
    "# is\n",
    "# >\n",
    "# <\n",
    "# >=\n",
    "# <=\n",
    "if 5 >= 6:\n",
    "    print('yes')"
   ]
  },
  {
   "cell_type": "code",
   "execution_count": 11,
   "metadata": {},
   "outputs": [
    {
     "name": "stdout",
     "output_type": "stream",
     "text": [
      "bad\n"
     ]
    }
   ],
   "source": [
    "x = -3\n",
    "\n",
    "if x > 0:\n",
    "    print('good')\n",
    "elif x > -1:\n",
    "    print('soso')\n",
    "elif x > -1:\n",
    "    print('soso')\n",
    "elif x > -1:\n",
    "    print('soso')\n",
    "elif x > -1:\n",
    "    print('soso')\n",
    "else:\n",
    "    print('bad')"
   ]
  },
  {
   "cell_type": "code",
   "execution_count": 15,
   "metadata": {},
   "outputs": [
    {
     "name": "stdout",
     "output_type": "stream",
     "text": [
      "A\n",
      "B\n",
      "C\n"
     ]
    }
   ],
   "source": [
    "score = 95\n",
    "\n",
    "# if score >= 90:\n",
    "#     print('A')\n",
    "# elif score >= 80:\n",
    "#     print('B')\n",
    "# elif score >= 70:\n",
    "#     print('C')\n",
    "# else:\n",
    "#     print('F')\n",
    "\n",
    "if score >= 90:\n",
    "    print('A')\n",
    "    \n",
    "if score >= 80:\n",
    "    print('B')\n",
    "    \n",
    "if score >= 70:\n",
    "    print('C')\n",
    "    \n",
    "if score < 70:\n",
    "    print('F')\n"
   ]
  },
  {
   "cell_type": "code",
   "execution_count": null,
   "metadata": {},
   "outputs": [],
   "source": [
    "is_logged_in = True\n",
    "role = 'member' # admin, teacher, student\n",
    "\n",
    "# nested condition\n",
    "\n",
    "if is_logged_in:\n",
    "    print('登入中')\n",
    "    if role is 'member':\n",
    "        print('歡迎回來～ member')\n",
    "    elif role is 'admin':\n",
    "        print('歡迎回來～ admin')\n",
    "else:\n",
    "    print('尚未登入')"
   ]
  },
  {
   "cell_type": "code",
   "execution_count": 22,
   "metadata": {},
   "outputs": [
    {
     "name": "stdout",
     "output_type": "stream",
     "text": [
      "good\n"
     ]
    }
   ],
   "source": [
    "# is\n",
    "# >\n",
    "# <\n",
    "# >=\n",
    "# <=\n",
    "\n",
    "# == (值相等)\n",
    "x = 5\n",
    "if x == 5:\n",
    "    print('good')\n",
    "    \n",
    "y = True\n",
    "if y is 1:\n",
    "    print('soso')"
   ]
  },
  {
   "cell_type": "code",
   "execution_count": 23,
   "metadata": {},
   "outputs": [],
   "source": [
    "# in\n",
    "member = {\n",
    "    \"name\": \"kk\",\n",
    "    \"gender\": 0,\n",
    "    \"age\": 25\n",
    "}\n",
    "user_list = ['kk', 'louis', 'alan']\n",
    "point = (3, 4, 1)\n",
    "allow_users = {'kk', 'louis'}"
   ]
  },
  {
   "cell_type": "code",
   "execution_count": 26,
   "metadata": {},
   "outputs": [
    {
     "name": "stdout",
     "output_type": "stream",
     "text": [
      "age 在 member 裡面\n"
     ]
    }
   ],
   "source": [
    "if 'age' in member:\n",
    "    print('age 在 member 裡面')"
   ]
  },
  {
   "cell_type": "code",
   "execution_count": 28,
   "metadata": {},
   "outputs": [
    {
     "name": "stdout",
     "output_type": "stream",
     "text": [
      "QQ\n"
     ]
    }
   ],
   "source": [
    "if 'kk' in user_list:\n",
    "    print('QQ')"
   ]
  },
  {
   "cell_type": "code",
   "execution_count": 30,
   "metadata": {},
   "outputs": [],
   "source": [
    "if 0 in point:\n",
    "    print('yes')"
   ]
  },
  {
   "cell_type": "code",
   "execution_count": 32,
   "metadata": {},
   "outputs": [],
   "source": [
    "if 'kk1' in allow_users:\n",
    "    print('hi')"
   ]
  },
  {
   "cell_type": "code",
   "execution_count": 33,
   "metadata": {},
   "outputs": [],
   "source": [
    "member_list = {\n",
    "    'm001': {\n",
    "        'name': 'kk',\n",
    "        'age': 25,\n",
    "        'tags': ['male', 'young', 'sleepy']\n",
    "    },\n",
    "    'm002': {\n",
    "        'name': 'zz',\n",
    "        'age': 26,\n",
    "        'tags': ['female', 'young', 'good']\n",
    "    },\n",
    "    'm003': {\n",
    "        'name': 'ww',\n",
    "        'age': 24,\n",
    "        'tags': ['male', 'young', 'strong']\n",
    "    },\n",
    "}"
   ]
  },
  {
   "cell_type": "code",
   "execution_count": 36,
   "metadata": {},
   "outputs": [
    {
     "name": "stdout",
     "output_type": "stream",
     "text": [
      "他是會員\n"
     ]
    }
   ],
   "source": [
    "member_id = 'm003'\n",
    "\n",
    "if member_id in member_list:\n",
    "    print('他是會員')\n",
    "else:\n",
    "    print('他不是會員')"
   ]
  },
  {
   "cell_type": "code",
   "execution_count": 43,
   "metadata": {},
   "outputs": [
    {
     "name": "stdout",
     "output_type": "stream",
     "text": [
      "會員沒有此 tag\n"
     ]
    }
   ],
   "source": [
    "member_id = 'm002'\n",
    "tag = 'male'\n",
    "\n",
    "if tag in member_list[member_id]['tags']:\n",
    "    print('會員有 male 這個 tag')\n",
    "else:\n",
    "    print('會員沒有此 tag')"
   ]
  },
  {
   "cell_type": "code",
   "execution_count": 52,
   "metadata": {},
   "outputs": [
    {
     "name": "stdout",
     "output_type": "stream",
     "text": [
      "沒登入或不是管理員\n"
     ]
    }
   ],
   "source": [
    "# not 反向條件\n",
    "# and 且\n",
    "# or 或\n",
    "\n",
    "is_logged_in = True\n",
    "is_admin = False\n",
    "\n",
    "# if not is_logged_in:\n",
    "#     print('未登入')\n",
    "    \n",
    "# 真值表\n",
    "# True and True -> True\n",
    "# True and False -> False\n",
    "# False and True -> False\n",
    "# False and False -> False\n",
    "# if is_logged_in and is_admin:\n",
    "#     print('管理員登入')\n",
    "# elif is_logged_in:\n",
    "#     print('一般會員登入')\n",
    "# else:\n",
    "#     print('尚未登入')\n",
    "    \n",
    "    \n",
    "# 真值表\n",
    "# True or True -> True\n",
    "# True or False -> True\n",
    "# False or True -> True\n",
    "# False or False -> False\n",
    "if not is_logged_in or not is_admin:\n",
    "    print('沒登入或不是管理員')"
   ]
  },
  {
   "cell_type": "code",
   "execution_count": 53,
   "metadata": {},
   "outputs": [
    {
     "ename": "SyntaxError",
     "evalue": "invalid syntax (<ipython-input-53-07dc997dafe8>, line 1)",
     "output_type": "error",
     "traceback": [
      "\u001b[0;36m  File \u001b[0;32m\"<ipython-input-53-07dc997dafe8>\"\u001b[0;36m, line \u001b[0;32m1\u001b[0m\n\u001b[0;31m    if 5 > 3\u001b[0m\n\u001b[0m            ^\u001b[0m\n\u001b[0;31mSyntaxError\u001b[0m\u001b[0;31m:\u001b[0m invalid syntax\n"
     ]
    }
   ],
   "source": [
    "if 5 > 3:\n",
    "    print('5 > 3')"
   ]
  },
  {
   "cell_type": "code",
   "execution_count": null,
   "metadata": {},
   "outputs": [],
   "source": []
  }
 ],
 "metadata": {
  "kernelspec": {
   "display_name": "Python 3 (ipykernel)",
   "language": "python",
   "name": "python3"
  },
  "language_info": {
   "codemirror_mode": {
    "name": "ipython",
    "version": 3
   },
   "file_extension": ".py",
   "mimetype": "text/x-python",
   "name": "python",
   "nbconvert_exporter": "python",
   "pygments_lexer": "ipython3",
   "version": "3.12.4"
  }
 },
 "nbformat": 4,
 "nbformat_minor": 4
}
